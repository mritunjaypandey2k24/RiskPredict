{
 "cells": [
  {
   "cell_type": "code",
   "execution_count": 7,
   "metadata": {},
   "outputs": [
    {
     "name": "stdout",
     "output_type": "stream",
     "text": [
      "{'prediction': [61.12999949999995]}\n"
     ]
    }
   ],
   "source": [
    "import requests\n",
    "import json\n",
    "\n",
    "url = 'http://192.168.1.203:8181/predict'\n",
    "data = {\n",
    "    \"Close_HDFCBANK\": 2500,\n",
    "    \"Close_SBIN\": 300,\n",
    "    \"Close_ICICIBANK\": 600,\n",
    "    \"Close_AXISBANK\": 800,\n",
    "    \"Close_BSE_SENSEX\": 40000,\n",
    "    \"Close_NSEI\": 12000\n",
    "}\n",
    "\n",
    "response = requests.post(url, json=data)\n",
    "print(response.json())"
   ]
  },
  {
   "cell_type": "code",
   "execution_count": null,
   "metadata": {},
   "outputs": [],
   "source": [
    "pip install yfinance"
   ]
  },
  {
   "cell_type": "code",
   "execution_count": 8,
   "metadata": {},
   "outputs": [
    {
     "name": "stdout",
     "output_type": "stream",
     "text": [
      "{'prediction': [285.2500034500002]}\n",
      "Real-time Close Price of BANKBARODA: 276.0\n"
     ]
    }
   ],
   "source": [
    "\n",
    "import requests\n",
    "import yfinance as yf\n",
    "\n",
    "# Function to fetch real-time stock price\n",
    "def get_real_time_stock_price(stock_symbol):\n",
    "    stock = yf.Ticker(stock_symbol)\n",
    "    hist = stock.history(period=\"1d\")\n",
    "    return hist['Close'].iloc[-1]\n",
    "\n",
    "# Fetch real-time data\n",
    "real_time_bankbaroda = get_real_time_stock_price(\"BANKBARODA.NS\")\n",
    "real_time_data = {\n",
    "    \"Close_HDFCBANK\": get_real_time_stock_price(\"HDFCBANK.NS\"),\n",
    "    \"Close_SBIN\": get_real_time_stock_price(\"SBIN.NS\"),\n",
    "    \"Close_ICICIBANK\": get_real_time_stock_price(\"ICICIBANK.NS\"),\n",
    "    \"Close_AXISBANK\": get_real_time_stock_price(\"AXISBANK.NS\"),\n",
    "    \"Close_BSE_SENSEX\": get_real_time_stock_price(\"^BSESN\"),\n",
    "    \"Close_NSEI\": get_real_time_stock_price(\"^NSEI\")\n",
    "}\n",
    "\n",
    "# API request URL\n",
    "url = ' http://192.168.1.203:8181/predict'\n",
    "\n",
    "# Make the API request with real-time data\n",
    "response = requests.post(url, json=real_time_data)\n",
    "print(response.json())\n",
    "print(f\"Real-time Close Price of BANKBARODA: {real_time_bankbaroda}\")\n"
   ]
  },
  {
   "cell_type": "code",
   "execution_count": 9,
   "metadata": {},
   "outputs": [
    {
     "name": "stdout",
     "output_type": "stream",
     "text": [
      "Predicted Close Price of BANKBARODA: 285.2500034500002\n",
      "Real-time Close Price of BANKBARODA: 276.0\n"
     ]
    }
   ],
   "source": [
    "import requests\n",
    "import yfinance as yf\n",
    "\n",
    "# Function to fetch real-time stock price\n",
    "def get_real_time_stock_price(stock_symbol):\n",
    "    stock = yf.Ticker(stock_symbol)\n",
    "    hist = stock.history(period=\"1d\")\n",
    "    return hist['Close'].iloc[-1]\n",
    "\n",
    "# Fetch real-time data\n",
    "real_time_bankbaroda = get_real_time_stock_price(\"BANKBARODA.NS\")\n",
    "real_time_data = {\n",
    "    \"Close_HDFCBANK\": get_real_time_stock_price(\"HDFCBANK.NS\"),\n",
    "    \"Close_SBIN\": get_real_time_stock_price(\"SBIN.NS\"),\n",
    "    \"Close_ICICIBANK\": get_real_time_stock_price(\"ICICIBANK.NS\"),\n",
    "    \"Close_AXISBANK\": get_real_time_stock_price(\"AXISBANK.NS\"),\n",
    "    \"Close_BSE_SENSEX\": get_real_time_stock_price(\"^BSESN\"),\n",
    "    \"Close_NSEI\": get_real_time_stock_price(\"^NSEI\")\n",
    "}\n",
    "\n",
    "# API request URL\n",
    "url = ' http://192.168.1.203:8181/predict'\n",
    "\n",
    "# Make the API request with real-time data\n",
    "response = requests.post(url, json=real_time_data)\n",
    "\n",
    "# Assuming the API response contains a list under the key 'prediction'\n",
    "# and you're interested in the first item of this list\n",
    "predicted_data = response.json().get('prediction', [None])[0]\n",
    "print(f\"Predicted Close Price of BANKBARODA: {predicted_data}\")\n",
    "\n",
    "# Print the real-time fetched data\n",
    "print(f\"Real-time Close Price of BANKBARODA: {real_time_bankbaroda}\")"
   ]
  },
  {
   "cell_type": "code",
   "execution_count": 10,
   "metadata": {},
   "outputs": [
    {
     "name": "stdout",
     "output_type": "stream",
     "text": [
      "{'prediction': [285.2500034500002]}\n",
      "Predicted Close Price of BANKBARODA: 285.2500034500002\n",
      "Real-time Close Price of BANKBARODA: 276.04998779296875\n"
     ]
    }
   ],
   "source": [
    "# Function to fetch real-time stock price\n",
    "def get_real_time_stock_price(stock_symbol):\n",
    "    stock = yf.Ticker(stock_symbol)\n",
    "    hist = stock.history(period=\"1d\")\n",
    "    return hist['Close'].iloc[-1]\n",
    "# Fetch real-time data for the required banks and indices\n",
    "real_time_data = {\n",
    "    \"Close_HDFCBANK\": get_real_time_stock_price(\"HDFCBANK.NS\"),\n",
    "    \"Close_SBIN\": get_real_time_stock_price(\"SBIN.NS\"),\n",
    "    \"Close_ICICIBANK\": get_real_time_stock_price(\"ICICIBANK.NS\"),\n",
    "    \"Close_AXISBANK\": get_real_time_stock_price(\"AXISBANK.NS\"),  # Added\n",
    "    \"Close_BSE_SENSEX\": get_real_time_stock_price(\"^BSESN\"),  # Added\n",
    "    \"Close_NSEI\": get_real_time_stock_price(\"^NSEI\")  # Added\n",
    "}\n",
    "\n",
    "# URL of your Flask app\n",
    "url = 'https://riskpredictbob2024.azurewebsites.net/predict'\n",
    "\n",
    "# Send the data to your Flask app for prediction\n",
    "response = requests.post(url, json=real_time_data)\n",
    "# Print the entire JSON response to inspect its structure\n",
    "print(response.json())\n",
    "\n",
    "# Assuming the response structure is now correct, extract the prediction\n",
    "# Ensure to update the key based on the actual response structure\n",
    "prediction = response.json().get('prediction', [None])[0]\n",
    "if prediction is None:\n",
    "    print(\"Prediction key is missing or the prediction could not be found.\")\n",
    "else:\n",
    "    # Fetch the real-time price of Bank of Baroda for comparison\n",
    "    real_time_price_BOB = get_real_time_stock_price(\"BANKBARODA.NS\")\n",
    "\n",
    "    # Print both the predicted and real-time prices\n",
    "    print(f\"Predicted Close Price of BANKBARODA: {prediction}\")\n",
    "    print(f\"Real-time Close Price of BANKBARODA: {real_time_price_BOB}\")"
   ]
  },
  {
   "cell_type": "code",
   "execution_count": 21,
   "metadata": {},
   "outputs": [
    {
     "name": "stdout",
     "output_type": "stream",
     "text": [
      "Absolute Error: 9.850009553515804\n",
      "Percentage Error: 3.58%\n",
      "Directional Accuracy: Correct\n"
     ]
    }
   ],
   "source": [
    "# Calculate metrics for the predicted and real-time prices\n",
    "absolute_error = abs(prediction - real_time_price_BOB)\n",
    "percentage_error = (absolute_error / real_time_price_BOB) * 100\n",
    "\n",
    "# Determine the direction of the real-time price movement\n",
    "predicted_direction = \"up\" if prediction > real_time_price_BOB else \"down\"\n",
    "real_direction = \"up\"  # Assuming you have a way to determine the actual direction\n",
    "\n",
    "# Check if the predicted direction matches the real direction\n",
    "directional_accuracy = predicted_direction == real_direction\n",
    "\n",
    "# Print the metrics\n",
    "print(f\"Absolute Error: {absolute_error}\")\n",
    "print(f\"Percentage Error: {percentage_error:.2f}%\")\n",
    "print(f\"Directional Accuracy: {'Correct' if directional_accuracy else 'Incorrect'}\")"
   ]
  }
 ],
 "metadata": {
  "kernelspec": {
   "display_name": "Python 3",
   "language": "python",
   "name": "python3"
  },
  "language_info": {
   "codemirror_mode": {
    "name": "ipython",
    "version": 3
   },
   "file_extension": ".py",
   "mimetype": "text/x-python",
   "name": "python",
   "nbconvert_exporter": "python",
   "pygments_lexer": "ipython3",
   "version": "3.9.13"
  }
 },
 "nbformat": 4,
 "nbformat_minor": 2
}
