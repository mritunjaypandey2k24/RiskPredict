{
 "cells": [
  {
   "cell_type": "code",
   "execution_count": 1,
   "metadata": {},
   "outputs": [
    {
     "name": "stdout",
     "output_type": "stream",
     "text": [
      "{'prediction': [61.12999949999995]}\n"
     ]
    }
   ],
   "source": [
    "import requests\n",
    "import json\n",
    "\n",
    "url = 'http://127.0.0.1:5000/predict'\n",
    "data = {\n",
    "    \"Close_HDFCBANK\": 2500,\n",
    "    \"Close_SBIN\": 300,\n",
    "    \"Close_ICICIBANK\": 600,\n",
    "    \"Close_AXISBANK\": 800,\n",
    "    \"Close_BSE_SENSEX\": 40000,\n",
    "    \"Close_NSEI\": 12000\n",
    "}\n",
    "\n",
    "response = requests.post(url, json=data)\n",
    "print(response.json())"
   ]
  },
  {
   "cell_type": "code",
   "execution_count": null,
   "metadata": {},
   "outputs": [],
   "source": [
    "pip install yfinance"
   ]
  },
  {
   "cell_type": "code",
   "execution_count": 16,
   "metadata": {},
   "outputs": [
    {
     "name": "stdout",
     "output_type": "stream",
     "text": [
      "{'prediction': [279.0442480799999]}\n",
      "Real-time Close Price of BANKBARODA: 281.20001220703125\n"
     ]
    }
   ],
   "source": [
    "\n",
    "import requests\n",
    "import yfinance as yf\n",
    "\n",
    "# Function to fetch real-time stock price\n",
    "def get_real_time_stock_price(stock_symbol):\n",
    "    stock = yf.Ticker(stock_symbol)\n",
    "    hist = stock.history(period=\"1d\")\n",
    "    return hist['Close'].iloc[-1]\n",
    "\n",
    "# Fetch real-time data\n",
    "real_time_bankbaroda = get_real_time_stock_price(\"BANKBARODA.NS\")\n",
    "real_time_data = {\n",
    "    \"Close_HDFCBANK\": get_real_time_stock_price(\"HDFCBANK.NS\"),\n",
    "    \"Close_SBIN\": get_real_time_stock_price(\"SBIN.NS\"),\n",
    "    \"Close_ICICIBANK\": get_real_time_stock_price(\"ICICIBANK.NS\"),\n",
    "    \"Close_AXISBANK\": get_real_time_stock_price(\"AXISBANK.NS\"),\n",
    "    \"Close_BSE_SENSEX\": get_real_time_stock_price(\"^BSESN\"),\n",
    "    \"Close_NSEI\": get_real_time_stock_price(\"^NSEI\")\n",
    "}\n",
    "\n",
    "# API request URL\n",
    "url = 'http://127.0.0.1:5000/predict'\n",
    "\n",
    "# Make the API request with real-time data\n",
    "response = requests.post(url, json=real_time_data)\n",
    "print(response.json())\n",
    "print(f\"Real-time Close Price of BANKBARODA: {real_time_bankbaroda}\")\n"
   ]
  },
  {
   "cell_type": "code",
   "execution_count": 20,
   "metadata": {},
   "outputs": [
    {
     "name": "stdout",
     "output_type": "stream",
     "text": [
      "Predicted Close Price of BANKBARODA: 279.06824816999983\n",
      "Real-time Close Price of BANKBARODA: 281.54998779296875\n"
     ]
    }
   ],
   "source": [
    "import requests\n",
    "import yfinance as yf\n",
    "\n",
    "# Function to fetch real-time stock price\n",
    "def get_real_time_stock_price(stock_symbol):\n",
    "    stock = yf.Ticker(stock_symbol)\n",
    "    hist = stock.history(period=\"1d\")\n",
    "    return hist['Close'].iloc[-1]\n",
    "\n",
    "# Fetch real-time data\n",
    "real_time_bankbaroda = get_real_time_stock_price(\"BANKBARODA.NS\")\n",
    "real_time_data = {\n",
    "    \"Close_HDFCBANK\": get_real_time_stock_price(\"HDFCBANK.NS\"),\n",
    "    \"Close_SBIN\": get_real_time_stock_price(\"SBIN.NS\"),\n",
    "    \"Close_ICICIBANK\": get_real_time_stock_price(\"ICICIBANK.NS\"),\n",
    "    \"Close_AXISBANK\": get_real_time_stock_price(\"AXISBANK.NS\"),\n",
    "    \"Close_BSE_SENSEX\": get_real_time_stock_price(\"^BSESN\"),\n",
    "    \"Close_NSEI\": get_real_time_stock_price(\"^NSEI\")\n",
    "}\n",
    "\n",
    "# API request URL\n",
    "url = 'http://127.0.0.1:5000/predict'\n",
    "\n",
    "# Make the API request with real-time data\n",
    "response = requests.post(url, json=real_time_data)\n",
    "\n",
    "# Assuming the API response contains a list under the key 'prediction'\n",
    "# and you're interested in the first item of this list\n",
    "predicted_data = response.json().get('prediction', [None])[0]\n",
    "print(f\"Predicted Close Price of BANKBARODA: {predicted_data}\")\n",
    "\n",
    "# Print the real-time fetched data\n",
    "print(f\"Real-time Close Price of BANKBARODA: {real_time_bankbaroda}\")"
   ]
  }
 ],
 "metadata": {
  "kernelspec": {
   "display_name": "Python 3",
   "language": "python",
   "name": "python3"
  },
  "language_info": {
   "codemirror_mode": {
    "name": "ipython",
    "version": 3
   },
   "file_extension": ".py",
   "mimetype": "text/x-python",
   "name": "python",
   "nbconvert_exporter": "python",
   "pygments_lexer": "ipython3",
   "version": "3.9.13"
  }
 },
 "nbformat": 4,
 "nbformat_minor": 2
}
