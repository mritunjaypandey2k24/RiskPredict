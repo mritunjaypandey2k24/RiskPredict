{
 "cells": [
  {
   "cell_type": "markdown",
   "metadata": {
    "application/vnd.databricks.v1+cell": {
     "cellMetadata": {
      "byteLimit": 2048000,
      "rowLimit": 10000
     },
     "inputWidgets": {},
     "nuid": "8e85db6a-7e0b-43c8-be2a-ab71230a2fb8",
     "showTitle": false,
     "title": ""
    }
   },
   "source": [
    "## Step 1: Data Loading and Initial Preparation"
   ]
  },
  {
   "cell_type": "markdown",
   "metadata": {
    "application/vnd.databricks.v1+cell": {
     "cellMetadata": {
      "byteLimit": 2048000,
      "rowLimit": 10000
     },
     "inputWidgets": {},
     "nuid": "1db0f547-f8ee-42d0-8b9b-eea9726a36c6",
     "showTitle": false,
     "title": ""
    }
   },
   "source": [
    "### 1.1 Import necessary libraries"
   ]
  },
  {
   "cell_type": "code",
   "execution_count": 0,
   "metadata": {
    "application/vnd.databricks.v1+cell": {
     "cellMetadata": {
      "byteLimit": 2048000,
      "rowLimit": 10000
     },
     "inputWidgets": {},
     "nuid": "0663aa54-d998-4820-b67c-002c6d26d758",
     "showTitle": false,
     "title": ""
    }
   },
   "outputs": [],
   "source": [
    "# Data Loading and Initial Preparation\n",
    "import pandas as pd\n",
    "import numpy as np\n",
    "import os\n"
   ]
  },
  {
   "cell_type": "markdown",
   "metadata": {
    "application/vnd.databricks.v1+cell": {
     "cellMetadata": {
      "byteLimit": 2048000,
      "rowLimit": 10000
     },
     "inputWidgets": {},
     "nuid": "12a592af-0609-4140-a478-5a8b75759187",
     "showTitle": false,
     "title": ""
    }
   },
   "source": [
    "### 1.2 Define paths to the datasets"
   ]
  },
  {
   "cell_type": "code",
   "execution_count": 0,
   "metadata": {
    "application/vnd.databricks.v1+cell": {
     "cellMetadata": {
      "byteLimit": 2048000,
      "rowLimit": 10000
     },
     "inputWidgets": {},
     "nuid": "a85578ea-919f-4043-916e-857bfe48bf0d",
     "showTitle": false,
     "title": ""
    }
   },
   "outputs": [
    {
     "output_type": "stream",
     "name": "stdout",
     "output_type": "stream",
     "text": [
      "Dataset: BANKBARODA, First few rows:\n         Date        Open        High  ...       Close   Adj Close    Volume\n0  2019-06-17  119.349998  119.449997  ...  116.599998  109.915092  16409459\n1  2019-06-18  117.300003  118.400002  ...  116.500000  109.820824  19869838\n2  2019-06-19  118.000000  119.199997  ...  115.800003  109.160957  17739731\n3  2019-06-20  116.199997  119.000000  ...  118.500000  111.706161  17575444\n4  2019-06-21  118.599998  119.449997  ...  118.050003  111.281967  19336018\n\n[5 rows x 7 columns]\nDataset: HDFCBANK, First few rows:\n         Date         Open         High  ...        Close    Adj Close   Volume\n0  2019-06-17  1217.500000  1219.949951  ...  1211.000000  1152.787598  6405010\n1  2019-06-18  1209.000000  1216.000000  ...  1208.625000  1150.526611  6209826\n2  2019-06-19  1213.500000  1222.449951  ...  1214.175049  1155.810059  5372138\n3  2019-06-20  1214.175049  1218.500000  ...  1213.175049  1162.035889  5585746\n4  2019-06-21  1213.000000  1214.849976  ...  1207.099976  1156.216919  6625130\n\n[5 rows x 7 columns]\nDataset: SBIN, First few rows:\n         Date        Open        High  ...       Close   Adj Close    Volume\n0  2019-06-17  343.750000  343.750000  ...  337.850006  317.999420  13779496\n1  2019-06-18  335.500000  344.000000  ...  340.049988  320.070160  21957480\n2  2019-06-19  343.100006  345.200012  ...  338.850006  318.940613  16416903\n3  2019-06-20  341.000000  346.250000  ...  345.149994  324.870483  20626861\n4  2019-06-21  344.799988  350.700012  ...  349.399994  328.870789  24749090\n\n[5 rows x 7 columns]\nDataset: ICICIBANK, First few rows:\n         Date        Open        High  ...       Close   Adj Close    Volume\n0  2019-06-17  418.950012  419.700012  ...  414.200012  406.183258   9539802\n1  2019-06-18  415.450012  426.049988  ...  422.149994  413.979340  17761348\n2  2019-06-19  423.750000  426.000000  ...  419.799988  411.674805  17010384\n3  2019-06-20  419.750000  434.649994  ...  433.399994  425.011597  24315929\n4  2019-06-21  434.200012  435.200012  ...  430.799988  422.461914  13909654\n\n[5 rows x 7 columns]\nDataset: AXISBANK, First few rows:\n         Date        Open        High  ...       Close   Adj Close    Volume\n0  2019-06-17  800.099976  801.000000  ...  777.700012  774.764221  10151212\n1  2019-06-18  781.950012  784.849976  ...  775.750000  772.821533   8347632\n2  2019-06-19  780.799988  789.000000  ...  770.700012  767.790710   6411258\n3  2019-06-20  772.000000  775.450012  ...  771.400024  768.487976   9190732\n4  2019-06-21  774.750000  778.250000  ...  771.049988  768.139343  12610688\n\n[5 rows x 7 columns]\nDataset: BSE_SENSEX, First few rows:\n                Date      Open      High       Low     Close  Volume\n0  1/2/2019 15:30:00  36198.13  36236.70  35734.01  35891.52       0\n1  1/3/2019 15:30:00  35934.50  35999.66  35475.57  35513.71       0\n2  1/4/2019 15:30:00  35590.79  35744.20  35382.08  35695.10       0\n3  1/7/2019 15:30:00  35971.18  36076.95  35809.23  35850.16       0\n4  1/8/2019 15:30:00  35964.62  36037.35  35753.95  35980.93       0\nDataset: NSEI, First few rows:\n         Date          Open          High  ...         Close     Adj Close    Volume\n0  2019-06-17  11844.000000  11844.049805  ...  11672.150391  11672.150391  295500.0\n1  2019-06-18  11677.049805  11727.200195  ...  11691.500000  11691.500000  365500.0\n2  2019-06-19  11744.450195  11802.500000  ...  11691.450195  11691.450195  446900.0\n3  2019-06-20  11653.650391  11843.500000  ...  11831.750000  11831.750000  442000.0\n4  2019-06-21  11827.599609  11827.950195  ...  11724.099609  11724.099609  468400.0\n\n[5 rows x 7 columns]\n"
     ]
    }
   ],
   "source": [
    "import pandas as pd\n",
    "\n",
    "# Define the file paths\n",
    "paths = {\n",
    "    \"BANKBARODA\": \"/dbfs/mnt/riskpredict-data/BANKBARODA.NS.csv\",\n",
    "    \"HDFCBANK\": \"/dbfs/mnt/riskpredict-data/HDFCBANK.csv\",\n",
    "    \"SBIN\": \"/dbfs/mnt/riskpredict-data/SBIN.csv\",\n",
    "    \"ICICIBANK\": \"/dbfs/mnt/riskpredict-data/ICICIBANK.csv\",\n",
    "    \"AXISBANK\": \"/dbfs/mnt/riskpredict-data/AXISBANK.csv\",\n",
    "    \"BSE_SENSEX\": \"/dbfs/mnt/riskpredict-data/BSE_Sensex.csv\",\n",
    "    \"NSEI\": \"/dbfs/mnt/riskpredict-data/Nifty50.csv\"\n",
    "}\n",
    "\n",
    "# Load the datasets into a dictionary\n",
    "datasets = {name: pd.read_csv(path) for name, path in paths.items()}\n",
    "\n",
    "# Check and print the first few rows of each dataset\n",
    "for name, df in datasets.items():\n",
    "    print(f\"Dataset: {name}, First few rows:\")\n",
    "    print(df.head())\n"
   ]
  },
  {
   "cell_type": "markdown",
   "metadata": {
    "application/vnd.databricks.v1+cell": {
     "cellMetadata": {
      "byteLimit": 2048000,
      "rowLimit": 10000
     },
     "inputWidgets": {},
     "nuid": "0998a83f-1e8c-4f8c-a668-792735d1ab80",
     "showTitle": false,
     "title": ""
    }
   },
   "source": [
    "### 1.3 Ensure 'Date' Column is Parsed Correctly:"
   ]
  },
  {
   "cell_type": "code",
   "execution_count": 0,
   "metadata": {
    "application/vnd.databricks.v1+cell": {
     "cellMetadata": {
      "byteLimit": 2048000,
      "rowLimit": 10000
     },
     "inputWidgets": {},
     "nuid": "07715e25-f440-4f05-9e19-c66d7ab4f12a",
     "showTitle": false,
     "title": ""
    }
   },
   "outputs": [
    {
     "output_type": "stream",
     "name": "stdout",
     "output_type": "stream",
     "text": [
      "Dataset: BANKBARODA, 'Date' column type: datetime64[ns]\nDataset: HDFCBANK, 'Date' column type: datetime64[ns]\nDataset: SBIN, 'Date' column type: datetime64[ns]\nDataset: ICICIBANK, 'Date' column type: datetime64[ns]\nDataset: AXISBANK, 'Date' column type: datetime64[ns]\nDataset: BSE_SENSEX, 'Date' column type: datetime64[ns]\nDataset: NSEI, 'Date' column type: datetime64[ns]\n"
     ]
    }
   ],
   "source": [
    "for name, df in datasets.items():\n",
    "    if 'Date' in df.columns:\n",
    "        df['Date'] = pd.to_datetime(df['Date'])\n",
    "        datasets[name] = df\n",
    "        print(f\"Dataset: {name}, 'Date' column type: {df['Date'].dtype}\")\n",
    "    else:\n",
    "        print(f\"Dataset: {name} is missing 'Date' column\")\n"
   ]
  },
  {
   "cell_type": "markdown",
   "metadata": {
    "application/vnd.databricks.v1+cell": {
     "cellMetadata": {
      "byteLimit": 2048000,
      "rowLimit": 10000
     },
     "inputWidgets": {},
     "nuid": "13b6142d-d73a-46dc-9400-3c9ce0cef0ec",
     "showTitle": false,
     "title": ""
    }
   },
   "source": [
    "###  1.4 Load datasets into a dictionary"
   ]
  },
  {
   "cell_type": "code",
   "execution_count": 0,
   "metadata": {
    "application/vnd.databricks.v1+cell": {
     "cellMetadata": {
      "byteLimit": 2048000,
      "rowLimit": 10000
     },
     "inputWidgets": {},
     "nuid": "88281900-7f30-4b4c-aed3-bdfabfc695d4",
     "showTitle": false,
     "title": ""
    }
   },
   "outputs": [],
   "source": [
    "# Load datasets into a dictionary\n",
    "datasets = {name: pd.read_csv(path) for name, path in paths.items()}\n"
   ]
  },
  {
   "cell_type": "markdown",
   "metadata": {
    "application/vnd.databricks.v1+cell": {
     "cellMetadata": {
      "byteLimit": 2048000,
      "rowLimit": 10000
     },
     "inputWidgets": {},
     "nuid": "d2864ca0-bdf8-4dbc-a8ad-704d46f4a512",
     "showTitle": false,
     "title": ""
    }
   },
   "source": [
    "###  1.5 Inspect the first few rows of each dataset"
   ]
  },
  {
   "cell_type": "code",
   "execution_count": 0,
   "metadata": {
    "application/vnd.databricks.v1+cell": {
     "cellMetadata": {
      "byteLimit": 2048000,
      "rowLimit": 10000
     },
     "inputWidgets": {},
     "nuid": "2f9399bc-7e2e-47e4-9270-24b1842f709b",
     "showTitle": false,
     "title": ""
    }
   },
   "outputs": [
    {
     "output_type": "stream",
     "name": "stdout",
     "output_type": "stream",
     "text": [
      "\nBANKBARODA:\n          Date        Open        High  ...       Close   Adj Close    Volume\n0  2019-06-17  119.349998  119.449997  ...  116.599998  109.915092  16409459\n1  2019-06-18  117.300003  118.400002  ...  116.500000  109.820824  19869838\n2  2019-06-19  118.000000  119.199997  ...  115.800003  109.160957  17739731\n3  2019-06-20  116.199997  119.000000  ...  118.500000  111.706161  17575444\n4  2019-06-21  118.599998  119.449997  ...  118.050003  111.281967  19336018\n\n[5 rows x 7 columns]\n\nHDFCBANK:\n          Date         Open         High  ...        Close    Adj Close   Volume\n0  2019-06-17  1217.500000  1219.949951  ...  1211.000000  1152.787598  6405010\n1  2019-06-18  1209.000000  1216.000000  ...  1208.625000  1150.526611  6209826\n2  2019-06-19  1213.500000  1222.449951  ...  1214.175049  1155.810059  5372138\n3  2019-06-20  1214.175049  1218.500000  ...  1213.175049  1162.035889  5585746\n4  2019-06-21  1213.000000  1214.849976  ...  1207.099976  1156.216919  6625130\n\n[5 rows x 7 columns]\n\nSBIN:\n          Date        Open        High  ...       Close   Adj Close    Volume\n0  2019-06-17  343.750000  343.750000  ...  337.850006  317.999420  13779496\n1  2019-06-18  335.500000  344.000000  ...  340.049988  320.070160  21957480\n2  2019-06-19  343.100006  345.200012  ...  338.850006  318.940613  16416903\n3  2019-06-20  341.000000  346.250000  ...  345.149994  324.870483  20626861\n4  2019-06-21  344.799988  350.700012  ...  349.399994  328.870789  24749090\n\n[5 rows x 7 columns]\n\nICICIBANK:\n          Date        Open        High  ...       Close   Adj Close    Volume\n0  2019-06-17  418.950012  419.700012  ...  414.200012  406.183258   9539802\n1  2019-06-18  415.450012  426.049988  ...  422.149994  413.979340  17761348\n2  2019-06-19  423.750000  426.000000  ...  419.799988  411.674805  17010384\n3  2019-06-20  419.750000  434.649994  ...  433.399994  425.011597  24315929\n4  2019-06-21  434.200012  435.200012  ...  430.799988  422.461914  13909654\n\n[5 rows x 7 columns]\n\nAXISBANK:\n          Date        Open        High  ...       Close   Adj Close    Volume\n0  2019-06-17  800.099976  801.000000  ...  777.700012  774.764221  10151212\n1  2019-06-18  781.950012  784.849976  ...  775.750000  772.821533   8347632\n2  2019-06-19  780.799988  789.000000  ...  770.700012  767.790710   6411258\n3  2019-06-20  772.000000  775.450012  ...  771.400024  768.487976   9190732\n4  2019-06-21  774.750000  778.250000  ...  771.049988  768.139343  12610688\n\n[5 rows x 7 columns]\n\nBSE_SENSEX:\n                 Date      Open      High       Low     Close  Volume\n0  1/2/2019 15:30:00  36198.13  36236.70  35734.01  35891.52       0\n1  1/3/2019 15:30:00  35934.50  35999.66  35475.57  35513.71       0\n2  1/4/2019 15:30:00  35590.79  35744.20  35382.08  35695.10       0\n3  1/7/2019 15:30:00  35971.18  36076.95  35809.23  35850.16       0\n4  1/8/2019 15:30:00  35964.62  36037.35  35753.95  35980.93       0\n\nNSEI:\n          Date          Open          High  ...         Close     Adj Close    Volume\n0  2019-06-17  11844.000000  11844.049805  ...  11672.150391  11672.150391  295500.0\n1  2019-06-18  11677.049805  11727.200195  ...  11691.500000  11691.500000  365500.0\n2  2019-06-19  11744.450195  11802.500000  ...  11691.450195  11691.450195  446900.0\n3  2019-06-20  11653.650391  11843.500000  ...  11831.750000  11831.750000  442000.0\n4  2019-06-21  11827.599609  11827.950195  ...  11724.099609  11724.099609  468400.0\n\n[5 rows x 7 columns]\n"
     ]
    }
   ],
   "source": [
    "# Inspect the first few rows of each dataset\n",
    "for name, df in datasets.items():\n",
    "    print(f\"\\n{name}:\\n\", df.head())\n"
   ]
  },
  {
   "cell_type": "markdown",
   "metadata": {
    "application/vnd.databricks.v1+cell": {
     "cellMetadata": {
      "byteLimit": 2048000,
      "rowLimit": 10000
     },
     "inputWidgets": {},
     "nuid": "59af279e-d530-4f3d-903a-dafd6216d7ee",
     "showTitle": false,
     "title": ""
    }
   },
   "source": [
    "##Step 2: Data Cleaning and Preprocessing"
   ]
  },
  {
   "cell_type": "markdown",
   "metadata": {
    "application/vnd.databricks.v1+cell": {
     "cellMetadata": {
      "byteLimit": 2048000,
      "rowLimit": 10000
     },
     "inputWidgets": {},
     "nuid": "5da0b9b5-05e4-48fc-a7b3-a6edd91d7bb2",
     "showTitle": false,
     "title": ""
    }
   },
   "source": [
    "### 2.1 Data Cleaning and Preprocessing\n",
    " "
   ]
  },
  {
   "cell_type": "code",
   "execution_count": 0,
   "metadata": {
    "application/vnd.databricks.v1+cell": {
     "cellMetadata": {
      "byteLimit": 2048000,
      "rowLimit": 10000
     },
     "inputWidgets": {},
     "nuid": "afec5499-edb7-4e12-9686-02a3ec566fa1",
     "showTitle": false,
     "title": ""
    }
   },
   "outputs": [],
   "source": [
    "# Handle missing values and duplicates\n",
    "for name, df in datasets.items():\n",
    "    df.fillna(method='ffill', inplace=True)  # Forward fill missing values\n",
    "    df.drop_duplicates(inplace=True)\n"
   ]
  },
  {
   "cell_type": "markdown",
   "metadata": {
    "application/vnd.databricks.v1+cell": {
     "cellMetadata": {
      "byteLimit": 2048000,
      "rowLimit": 10000
     },
     "inputWidgets": {},
     "nuid": "b5b0991a-54de-4b9c-9960-85acfdc4d4cf",
     "showTitle": false,
     "title": ""
    }
   },
   "source": [
    "###  2.2 Convert date columns to datetime format"
   ]
  },
  {
   "cell_type": "code",
   "execution_count": 0,
   "metadata": {
    "application/vnd.databricks.v1+cell": {
     "cellMetadata": {
      "byteLimit": 2048000,
      "rowLimit": 10000
     },
     "inputWidgets": {},
     "nuid": "d7a50f17-7474-42cb-bc7b-2ddb0bd06f91",
     "showTitle": false,
     "title": ""
    }
   },
   "outputs": [],
   "source": [
    "# Convert date columns to datetime format\n",
    "for name, df in datasets.items():\n",
    "    if 'Date' in df.columns:\n",
    "        df['Date'] = pd.to_datetime(df['Date'])\n"
   ]
  },
  {
   "cell_type": "markdown",
   "metadata": {
    "application/vnd.databricks.v1+cell": {
     "cellMetadata": {
      "byteLimit": 2048000,
      "rowLimit": 10000
     },
     "inputWidgets": {},
     "nuid": "13f0881d-8c8f-4fb5-b0fb-33213c9eeb71",
     "showTitle": false,
     "title": ""
    }
   },
   "source": [
    "## Step 3: Feature Engineering"
   ]
  },
  {
   "cell_type": "markdown",
   "metadata": {
    "application/vnd.databricks.v1+cell": {
     "cellMetadata": {
      "byteLimit": 2048000,
      "rowLimit": 10000
     },
     "inputWidgets": {},
     "nuid": "9226eb59-db05-4895-99fb-81fa8828b0d0",
     "showTitle": false,
     "title": ""
    }
   },
   "source": [
    "### 2.3 Create common features"
   ]
  },
  {
   "cell_type": "code",
   "execution_count": 0,
   "metadata": {
    "application/vnd.databricks.v1+cell": {
     "cellMetadata": {
      "byteLimit": 2048000,
      "rowLimit": 10000
     },
     "inputWidgets": {},
     "nuid": "a974bec1-62e8-4862-89e1-71ebe14cc0d8",
     "showTitle": false,
     "title": ""
    }
   },
   "outputs": [],
   "source": [
    "# Create common features\n",
    "for name, df in datasets.items():\n",
    "    df['lag_1'] = df['Close'].shift(1)\n",
    "    df['moving_avg'] = df['Close'].rolling(window=5).mean()\n",
    "    df.dropna(inplace=True)\n"
   ]
  },
  {
   "cell_type": "markdown",
   "metadata": {
    "application/vnd.databricks.v1+cell": {
     "cellMetadata": {
      "byteLimit": 2048000,
      "rowLimit": 10000
     },
     "inputWidgets": {},
     "nuid": "57ce2651-ebea-465b-82d5-1f024705901c",
     "showTitle": false,
     "title": ""
    }
   },
   "source": [
    "### 2.4 Add a Code Cell to Check Each Dataset:"
   ]
  },
  {
   "cell_type": "code",
   "execution_count": 0,
   "metadata": {
    "application/vnd.databricks.v1+cell": {
     "cellMetadata": {
      "byteLimit": 2048000,
      "rowLimit": 10000
     },
     "inputWidgets": {},
     "nuid": "d359a83a-c705-479b-bd47-182a22e29698",
     "showTitle": false,
     "title": ""
    }
   },
   "outputs": [
    {
     "output_type": "stream",
     "name": "stdout",
     "output_type": "stream",
     "text": [
      "Dataset: BANKBARODA, Shape: (1232, 9)\n        Date        Open        High  ...    Volume       lag_1  moving_avg\n4 2019-06-21  118.599998  119.449997  ...  19336018  118.500000  117.090001\n5 2019-06-24  118.349998  119.949997  ...  16957023  118.050003  117.420001\n6 2019-06-25  118.199997  120.400002  ...  14107941  118.250000  118.120001\n7 2019-06-26  119.650002  121.800003  ...  15346189  120.000000  119.250000\n8 2019-06-27  122.000000  123.000000  ...  43164548  121.449997  119.830000\n\n[5 rows x 9 columns]\nDate          0\nOpen          0\nHigh          0\nLow           0\nClose         0\nAdj Close     0\nVolume        0\nlag_1         0\nmoving_avg    0\ndtype: int64\n\n\nDataset: HDFCBANK, Shape: (1232, 9)\n        Date         Open         High  ...   Volume        lag_1   moving_avg\n4 2019-06-21  1213.000000  1214.849976  ...  6625130  1213.175049  1210.815015\n5 2019-06-24  1205.974976  1215.300049  ...  3457500  1207.099976  1210.410010\n6 2019-06-25  1209.925049  1220.750000  ...  4449900  1208.974976  1211.555005\n7 2019-06-26  1212.349976  1235.000000  ...  5266818  1214.349976  1215.509986\n8 2019-06-27  1234.375000  1247.250000  ...  9939618  1233.949951  1219.104981\n\n[5 rows x 9 columns]\nDate          0\nOpen          0\nHigh          0\nLow           0\nClose         0\nAdj Close     0\nVolume        0\nlag_1         0\nmoving_avg    0\ndtype: int64\n\n\nDataset: SBIN, Shape: (1232, 9)\n        Date        Open        High  ...    Volume       lag_1  moving_avg\n4 2019-06-21  344.799988  350.700012  ...  24749090  345.149994  342.259998\n5 2019-06-24  350.000000  354.750000  ...  17919504  349.399994  345.329999\n6 2019-06-25  352.700012  357.000000  ...  15922634  353.200012  348.629999\n7 2019-06-26  355.750000  359.000000  ...  15835579  356.549988  352.489996\n8 2019-06-27  358.100006  363.000000  ...  29658120  358.149994  355.889996\n\n[5 rows x 9 columns]\nDate          0\nOpen          0\nHigh          0\nLow           0\nClose         0\nAdj Close     0\nVolume        0\nlag_1         0\nmoving_avg    0\ndtype: int64\n\n\nDataset: ICICIBANK, Shape: (1232, 9)\n        Date        Open        High  ...    Volume       lag_1  moving_avg\n4 2019-06-21  434.200012  435.200012  ...  13909654  433.399994  424.069995\n5 2019-06-24  431.450012  433.799988  ...   8545999  430.799988  427.119995\n6 2019-06-25  427.899994  434.799988  ...  12964387  429.450012  429.419995\n7 2019-06-26  432.500000  440.000000  ...  12261068  433.649994  433.189996\n8 2019-06-27  438.000000  443.899994  ...  18787957  438.649994  434.700000\n\n[5 rows x 9 columns]\nDate          0\nOpen          0\nHigh          0\nLow           0\nClose         0\nAdj Close     0\nVolume        0\nlag_1         0\nmoving_avg    0\ndtype: int64\n\n\nDataset: AXISBANK, Shape: (1232, 9)\n        Date        Open        High  ...    Volume       lag_1  moving_avg\n4 2019-06-21  774.750000  778.250000  ...  12610688  771.400024  773.320007\n5 2019-06-24  771.000000  775.250000  ...   4866859  771.049988  770.350000\n6 2019-06-25  761.250000  783.000000  ...  10044436  762.849976  771.530005\n7 2019-06-26  782.900024  792.000000  ...   8715757  781.650024  775.109998\n8 2019-06-27  788.950012  806.849976  ...  18439210  788.599976  780.919995\n\n[5 rows x 9 columns]\nDate          0\nOpen          0\nHigh          0\nLow           0\nClose         0\nAdj Close     0\nVolume        0\nlag_1         0\nmoving_avg    0\ndtype: int64\n\n\nDataset: BSE_SENSEX, Shape: (1340, 8)\n                 Date      Open      High  ...  Volume     lag_1  moving_avg\n4 2019-01-08 15:30:00  35964.62  36037.35  ...       0  35850.16   35786.284\n5 2019-01-09 15:30:00  36181.37  36250.54  ...       0  35980.93   35850.562\n6 2019-01-10 15:30:00  36258.00  36269.31  ...       0  36212.91   35969.120\n7 2019-01-11 15:30:00  36191.87  36214.26  ...       0  36106.50   36032.068\n8 2019-01-14 15:30:00  36113.27  36124.94  ...       0  36009.84   36032.748\n\n[5 rows x 8 columns]\nDate          0\nOpen          0\nHigh          0\nLow           0\nClose         0\nVolume        0\nlag_1         0\nmoving_avg    0\ndtype: int64\n\n\nDataset: NSEI, Shape: (1232, 9)\n        Date          Open          High  ...    Volume         lag_1    moving_avg\n4 2019-06-21  11827.599609  11827.950195  ...  468400.0  11831.750000  11722.190039\n5 2019-06-24  11725.799805  11754.000000  ...  277600.0  11724.099609  11727.690039\n6 2019-06-25  11681.000000  11814.400391  ...  300500.0  11699.650391  11748.680078\n7 2019-06-26  11768.150391  11871.849609  ...  327900.0  11796.450195  11779.900000\n8 2019-06-27  11860.849609  11911.150391  ...  480200.0  11847.549805  11781.859961\n\n[5 rows x 9 columns]\nDate          0\nOpen          0\nHigh          0\nLow           0\nClose         0\nAdj Close     0\nVolume        0\nlag_1         0\nmoving_avg    0\ndtype: int64\n\n\n"
     ]
    }
   ],
   "source": [
    "for name, df in datasets.items():\n",
    "    print(f\"Dataset: {name}, Shape: {df.shape}\")\n",
    "    print(df.head())\n",
    "    print(df.isnull().sum())\n",
    "    print(\"\\n\")\n"
   ]
  },
  {
   "cell_type": "markdown",
   "metadata": {
    "application/vnd.databricks.v1+cell": {
     "cellMetadata": {
      "byteLimit": 2048000,
      "rowLimit": 10000
     },
     "inputWidgets": {},
     "nuid": "b07f7402-7162-4ea1-b8a0-d86eea9455de",
     "showTitle": false,
     "title": ""
    }
   },
   "source": [
    "## 2.5 Verify Date column exist\n",
    "\n"
   ]
  },
  {
   "cell_type": "code",
   "execution_count": 0,
   "metadata": {
    "application/vnd.databricks.v1+cell": {
     "cellMetadata": {
      "byteLimit": 2048000,
      "rowLimit": 10000
     },
     "inputWidgets": {},
     "nuid": "188d9eaf-0be3-434a-b593-1cec47b45065",
     "showTitle": false,
     "title": ""
    }
   },
   "outputs": [
    {
     "output_type": "stream",
     "name": "stdout",
     "output_type": "stream",
     "text": [
      "Dataset: BANKBARODA, 'Date' column is present\nDataset: HDFCBANK, 'Date' column is present\nDataset: SBIN, 'Date' column is present\nDataset: ICICIBANK, 'Date' column is present\nDataset: AXISBANK, 'Date' column is present\nDataset: BSE_SENSEX, 'Date' column is present\nDataset: NSEI, 'Date' column is present\n"
     ]
    }
   ],
   "source": [
    "for name, df in datasets.items():\n",
    "    if 'Date' not in df.columns:\n",
    "        print(f\"Dataset: {name} is missing 'Date' column\")\n",
    "    else:\n",
    "        print(f\"Dataset: {name}, 'Date' column is present\")\n"
   ]
  },
  {
   "cell_type": "markdown",
   "metadata": {
    "application/vnd.databricks.v1+cell": {
     "cellMetadata": {
      "byteLimit": 2048000,
      "rowLimit": 10000
     },
     "inputWidgets": {},
     "nuid": "aef2f5a4-b976-4bc0-bd29-f293f24dad08",
     "showTitle": false,
     "title": ""
    }
   },
   "source": [
    "###  2.6 Merge Datasets with Outer Join:"
   ]
  },
  {
   "cell_type": "markdown",
   "metadata": {
    "application/vnd.databricks.v1+cell": {
     "cellMetadata": {
      "byteLimit": 2048000,
      "rowLimit": 10000
     },
     "inputWidgets": {},
     "nuid": "4cfe1129-dbd9-4f95-9c27-b90946b2e421",
     "showTitle": false,
     "title": ""
    }
   },
   "source": [
    "Set 'Date' as Index and Merge Datasets:"
   ]
  },
  {
   "cell_type": "code",
   "execution_count": 0,
   "metadata": {
    "application/vnd.databricks.v1+cell": {
     "cellMetadata": {
      "byteLimit": 2048000,
      "rowLimit": 10000
     },
     "inputWidgets": {},
     "nuid": "d6decb22-a140-47d2-b677-a8018e6a20e9",
     "showTitle": false,
     "title": ""
    }
   },
   "outputs": [
    {
     "output_type": "stream",
     "name": "stdout",
     "output_type": "stream",
     "text": [
      "(1232, 2)\n        Date  Close_BANKBARODA\n0 2019-06-21        118.050003\n1 2019-06-24        118.250000\n2 2019-06-25        120.000000\n3 2019-06-26        121.449997\n4 2019-06-27        121.400002\n"
     ]
    }
   ],
   "source": [
    "# Set 'Date' as index\n",
    "for name, df in datasets.items():\n",
    "    if 'Date' in df.columns:\n",
    "        df.set_index('Date', inplace=True)\n",
    "        datasets[name] = df\n",
    "\n",
    "# Merge datasets on 'Date' index\n",
    "merged_data = datasets['BANKBARODA'][['Close']].rename(columns={'Close': 'Close_BANKBARODA'})\n",
    "for name, df in datasets.items():\n",
    "    if name != 'BANKBARODA' and 'Date' in df.columns:\n",
    "        merged_data = merged_data.join(df[['Close']].rename(columns={'Close': f'Close_{name}'}), how='outer')\n",
    "\n",
    "# Reset the index to have 'Date' as a column again\n",
    "merged_data.reset_index(inplace=True)\n",
    "\n",
    "# Check the merged data shape and head\n",
    "print(merged_data.shape)\n",
    "print(merged_data.head())\n"
   ]
  },
  {
   "cell_type": "markdown",
   "metadata": {
    "application/vnd.databricks.v1+cell": {
     "cellMetadata": {
      "byteLimit": 2048000,
      "rowLimit": 10000
     },
     "inputWidgets": {},
     "nuid": "7ff5992c-2ae6-4140-9147-ae4b21da1216",
     "showTitle": false,
     "title": ""
    }
   },
   "source": [
    "### 2.7 Handle Missing value"
   ]
  },
  {
   "cell_type": "code",
   "execution_count": 0,
   "metadata": {
    "application/vnd.databricks.v1+cell": {
     "cellMetadata": {
      "byteLimit": 2048000,
      "rowLimit": 10000
     },
     "inputWidgets": {},
     "nuid": "6405b4c9-d55d-495a-bfbf-ee0de4c0bbda",
     "showTitle": false,
     "title": ""
    }
   },
   "outputs": [
    {
     "output_type": "stream",
     "name": "stdout",
     "output_type": "stream",
     "text": [
      "Missing values before handling:\nDate                0\nClose_BANKBARODA    0\ndtype: int64\nMissing values after handling:\nDate                0\nClose_BANKBARODA    0\ndtype: int64\n"
     ]
    }
   ],
   "source": [
    "# Inspect missing values\n",
    "print(\"Missing values before handling:\")\n",
    "print(merged_data.isnull().sum())\n",
    "\n",
    "# Handling missing values (example: forward fill)\n",
    "merged_data.fillna(method='ffill', inplace=True)\n",
    "merged_data.fillna(method='bfill', inplace=True)\n",
    "\n",
    "# Verify missing values are handled\n",
    "print(\"Missing values after handling:\")\n",
    "print(merged_data.isnull().sum())\n"
   ]
  },
  {
   "cell_type": "markdown",
   "metadata": {
    "application/vnd.databricks.v1+cell": {
     "cellMetadata": {
      "byteLimit": 2048000,
      "rowLimit": 10000
     },
     "inputWidgets": {},
     "nuid": "85224ecf-0406-4917-9484-e3c768f655f1",
     "showTitle": false,
     "title": ""
    }
   },
   "source": [
    "### 2.8 Check merged_data:"
   ]
  },
  {
   "cell_type": "code",
   "execution_count": 0,
   "metadata": {
    "application/vnd.databricks.v1+cell": {
     "cellMetadata": {
      "byteLimit": 2048000,
      "rowLimit": 10000
     },
     "inputWidgets": {},
     "nuid": "a2fbd25d-d92d-4f85-a292-58ec73281443",
     "showTitle": false,
     "title": ""
    }
   },
   "outputs": [
    {
     "output_type": "stream",
     "name": "stdout",
     "output_type": "stream",
     "text": [
      "Index(['Date', 'Close_BANKBARODA'], dtype='object')\n        Date  Close_BANKBARODA\n0 2019-06-21        118.050003\n1 2019-06-24        118.250000\n2 2019-06-25        120.000000\n3 2019-06-26        121.449997\n4 2019-06-27        121.400002\n"
     ]
    }
   ],
   "source": [
    "print(merged_data.columns)\n",
    "print(merged_data.head())\n"
   ]
  },
  {
   "cell_type": "markdown",
   "metadata": {
    "application/vnd.databricks.v1+cell": {
     "cellMetadata": {
      "byteLimit": 2048000,
      "rowLimit": 10000
     },
     "inputWidgets": {},
     "nuid": "bb4a17bc-ab99-48e8-8c89-f43919ac0418",
     "showTitle": false,
     "title": ""
    }
   },
   "source": [
    "The output indicates that merged_data currently only contains the 'Date' and 'Close_BANKBARODA' columns. This means that other features, which were supposed to be included in merged_data, were not properly merged or processed.\n",
    "\n",
    "We need to ensure that merged_data contains all necessary features before we proceed. Let's debug and correct the merging step to include all required features."
   ]
  },
  {
   "cell_type": "markdown",
   "metadata": {
    "application/vnd.databricks.v1+cell": {
     "cellMetadata": {
      "byteLimit": 2048000,
      "rowLimit": 10000
     },
     "inputWidgets": {},
     "nuid": "8a4cb805-8477-4bcb-a4c5-c3af66d0b79e",
     "showTitle": false,
     "title": ""
    }
   },
   "source": [
    "## Step 3 -Step-by-Step Debugging and Correction"
   ]
  },
  {
   "cell_type": "markdown",
   "metadata": {
    "application/vnd.databricks.v1+cell": {
     "cellMetadata": {
      "byteLimit": 2048000,
      "rowLimit": 10000
     },
     "inputWidgets": {},
     "nuid": "7b7c5983-5c3a-4a8d-8934-4a182f2163f4",
     "showTitle": false,
     "title": ""
    }
   },
   "source": [
    "### 3.1. Ensure All Datasets are Properly Merged:"
   ]
  },
  {
   "cell_type": "code",
   "execution_count": 0,
   "metadata": {
    "application/vnd.databricks.v1+cell": {
     "cellMetadata": {
      "byteLimit": 2048000,
      "rowLimit": 10000
     },
     "inputWidgets": {},
     "nuid": "f8c6a292-0433-4272-9b50-4f5a64e4c57f",
     "showTitle": false,
     "title": ""
    }
   },
   "outputs": [
    {
     "output_type": "stream",
     "name": "stdout",
     "output_type": "stream",
     "text": [
      "                    Date  Close_BANKBARODA  ...  Close_BSE_SENSEX    Close_NSEI\n0    2019-06-17 00:00:00        116.599998  ...          39452.07  11672.150391\n1346 2019-06-17 15:30:00        116.599998  ...          38960.79  11672.150391\n1    2019-06-18 00:00:00        116.500000  ...          38960.79  11691.500000\n1347 2019-06-18 15:30:00        116.500000  ...          39046.34  11691.500000\n2    2019-06-19 00:00:00        115.800003  ...          39046.34  11691.450195\n\n[5 rows x 8 columns]\n"
     ]
    }
   ],
   "source": [
    "import pandas as pd\n",
    "\n",
    "# Load datasets\n",
    "datasets = {\n",
    "    \"BANKBARODA\": \"/dbfs/mnt/riskpredict-data/BANKBARODA.NS.csv\",\n",
    "    \"HDFCBANK\": \"/dbfs/mnt/riskpredict-data/HDFCBANK.csv\",\n",
    "    \"SBIN\": \"/dbfs/mnt/riskpredict-data/SBIN.csv\",\n",
    "    \"ICICIBANK\": \"/dbfs/mnt/riskpredict-data/ICICIBANK.csv\",\n",
    "    \"AXISBANK\": \"/dbfs/mnt/riskpredict-data/AXISBANK.csv\",\n",
    "    \"BSE_SENSEX\": \"/dbfs/mnt/riskpredict-data/BSE_Sensex.csv\",\n",
    "    \"NSEI\": \"/dbfs/mnt/riskpredict-data/Nifty50.csv\"\n",
    "}\n",
    "\n",
    "# Load and process each dataset\n",
    "data_frames = {}\n",
    "for name, path in datasets.items():\n",
    "    df = pd.read_csv(path)\n",
    "    df['Date'] = pd.to_datetime(df['Date'])\n",
    "    df = df[['Date', 'Close']]  # Keep only the Date and Close columns for merging\n",
    "    df = df.rename(columns={'Close': f'Close_{name}'})\n",
    "    data_frames[name] = df\n",
    "\n",
    "# Merge all dataframes on the 'Date' column\n",
    "merged_data = data_frames['BANKBARODA']\n",
    "for name, df in data_frames.items():\n",
    "    if name != 'BANKBARODA':\n",
    "        merged_data = pd.merge(merged_data, df, on='Date', how='outer')\n",
    "\n",
    "# Sort by date and fill any missing values (optional, depends on the data context)\n",
    "merged_data = merged_data.sort_values('Date').fillna(method='ffill').dropna()\n",
    "\n",
    "# Print the head of the merged dataframe to verify\n",
    "print(merged_data.head())\n"
   ]
  },
  {
   "cell_type": "markdown",
   "metadata": {
    "application/vnd.databricks.v1+cell": {
     "cellMetadata": {
      "byteLimit": 2048000,
      "rowLimit": 10000
     },
     "inputWidgets": {},
     "nuid": "c9dd56b1-0006-4759-8577-02414d250e13",
     "showTitle": false,
     "title": ""
    }
   },
   "source": [
    "### 3.2. Prepare X and y:\n",
    "\n",
    "Now, ensuring X includes all the feature columns and y is the target variable (e.g., Close_BANKBARODA)."
   ]
  },
  {
   "cell_type": "code",
   "execution_count": 0,
   "metadata": {
    "application/vnd.databricks.v1+cell": {
     "cellMetadata": {
      "byteLimit": 2048000,
      "rowLimit": 10000
     },
     "inputWidgets": {},
     "nuid": "1f4e01bf-d31a-4734-adec-a0b8e4cc2bd2",
     "showTitle": false,
     "title": ""
    }
   },
   "outputs": [
    {
     "output_type": "stream",
     "name": "stdout",
     "output_type": "stream",
     "text": [
      "Features (X) preview:\n       Close_HDFCBANK  Close_SBIN  ...  Close_BSE_SENSEX    Close_NSEI\n0        1211.000000  337.850006  ...          39452.07  11672.150391\n1346     1211.000000  337.850006  ...          38960.79  11672.150391\n1        1208.625000  340.049988  ...          38960.79  11691.500000\n1347     1208.625000  340.049988  ...          39046.34  11691.500000\n2        1214.175049  338.850006  ...          39046.34  11691.450195\n\n[5 rows x 6 columns]\nTarget (y) preview:\n 0       116.599998\n1346    116.599998\n1       116.500000\n1347    116.500000\n2       115.800003\nName: Close_BANKBARODA, dtype: float64\n"
     ]
    }
   ],
   "source": [
    "X = merged_data.drop(['Date', 'Close_BANKBARODA'], axis=1)\n",
    "y = merged_data['Close_BANKBARODA']\n",
    "\n",
    "print(\"Features (X) preview:\\n\", X.head())\n",
    "print(\"Target (y) preview:\\n\", y.head())\n"
   ]
  },
  {
   "cell_type": "markdown",
   "metadata": {
    "application/vnd.databricks.v1+cell": {
     "cellMetadata": {
      "byteLimit": 2048000,
      "rowLimit": 10000
     },
     "inputWidgets": {},
     "nuid": "059762d9-8581-4f10-ab58-04a9a5e035e4",
     "showTitle": false,
     "title": ""
    }
   },
   "source": [
    "## Step 4: Data Splitting & Model Training"
   ]
  },
  {
   "cell_type": "markdown",
   "metadata": {
    "application/vnd.databricks.v1+cell": {
     "cellMetadata": {
      "byteLimit": 2048000,
      "rowLimit": 10000
     },
     "inputWidgets": {},
     "nuid": "88671b77-a5d9-4eef-bd03-573f8da8f5ce",
     "showTitle": false,
     "title": ""
    }
   },
   "source": [
    "### 4.1 Prepare Data for Train-Test Split:"
   ]
  },
  {
   "cell_type": "code",
   "execution_count": 0,
   "metadata": {
    "application/vnd.databricks.v1+cell": {
     "cellMetadata": {
      "byteLimit": 2048000,
      "rowLimit": 10000
     },
     "inputWidgets": {},
     "nuid": "c46af1b9-eb87-4dc9-a6d3-d497cb61f25b",
     "showTitle": false,
     "title": ""
    }
   },
   "outputs": [
    {
     "output_type": "stream",
     "name": "stdout",
     "output_type": "stream",
     "text": [
      "X_train shape: (1976, 6)\nX_test shape: (494, 6)\ny_train shape: (1976,)\ny_test shape: (494,)\n"
     ]
    }
   ],
   "source": [
    "from sklearn.model_selection import train_test_split\n",
    "\n",
    "X_train, X_test, y_train, y_test = train_test_split(X, y, test_size=0.2, random_state=42)\n",
    "\n",
    "print(\"X_train shape:\", X_train.shape)\n",
    "print(\"X_test shape:\", X_test.shape)\n",
    "print(\"y_train shape:\", y_train.shape)\n",
    "print(\"y_test shape:\", y_test.shape)\n"
   ]
  },
  {
   "cell_type": "markdown",
   "metadata": {
    "application/vnd.databricks.v1+cell": {
     "cellMetadata": {
      "byteLimit": 2048000,
      "rowLimit": 10000
     },
     "inputWidgets": {},
     "nuid": "289617c2-9606-4024-be82-776cbfb56ce6",
     "showTitle": false,
     "title": ""
    }
   },
   "source": [
    "###  4.2 Model Training"
   ]
  },
  {
   "cell_type": "markdown",
   "metadata": {
    "application/vnd.databricks.v1+cell": {
     "cellMetadata": {
      "byteLimit": 2048000,
      "rowLimit": 10000
     },
     "inputWidgets": {},
     "nuid": "f4681d1a-4d8c-4228-82ad-b11a5b283c89",
     "showTitle": false,
     "title": ""
    }
   },
   "source": [
    "## 4.2.1 Linear Regression"
   ]
  },
  {
   "cell_type": "code",
   "execution_count": 0,
   "metadata": {
    "application/vnd.databricks.v1+cell": {
     "cellMetadata": {
      "byteLimit": 2048000,
      "rowLimit": 10000
     },
     "inputWidgets": {},
     "nuid": "56528023-7360-4a59-af9c-822b14a3e550",
     "showTitle": false,
     "title": ""
    }
   },
   "outputs": [
    {
     "output_type": "display_data",
     "data": {
      "application/vnd.jupyter.widget-view+json": {
       "model_id": "69c8e2bd10f3455c96100a7941ba26d1",
       "version_major": 2,
       "version_minor": 0
      },
      "text/plain": [
       "Uploading artifacts:   0%|          | 0/5 [00:00<?, ?it/s]"
      ]
     },
     "metadata": {},
     "output_type": "display_data"
    },
    {
     "output_type": "stream",
     "name": "stdout",
     "output_type": "stream",
     "text": [
      "Linear Regression Mean Squared Error: 262.16881015549114\nLinear Regression R^2 Score: 0.9354914441872775\n"
     ]
    }
   ],
   "source": [
    "from sklearn.linear_model import LinearRegression\n",
    "from sklearn.metrics import mean_squared_error, r2_score\n",
    "\n",
    "# Initialize the model\n",
    "lr_model = LinearRegression()\n",
    "\n",
    "# Train the model\n",
    "lr_model.fit(X_train, y_train)\n",
    "\n",
    "# Make predictions on the test set\n",
    "y_pred_lr = lr_model.predict(X_test)\n",
    "\n",
    "# Calculate Mean Squared Error\n",
    "mse_lr = mean_squared_error(y_test, y_pred_lr)\n",
    "\n",
    "# Calculate R^2 Score\n",
    "r2_lr = r2_score(y_test, y_pred_lr)\n",
    "\n",
    "# Print the results\n",
    "print(f\"Linear Regression Mean Squared Error: {mse_lr}\")\n",
    "print(f\"Linear Regression R^2 Score: {r2_lr}\")\n"
   ]
  },
  {
   "cell_type": "markdown",
   "metadata": {
    "application/vnd.databricks.v1+cell": {
     "cellMetadata": {
      "byteLimit": 2048000,
      "rowLimit": 10000
     },
     "inputWidgets": {},
     "nuid": "812454cf-64c4-48e6-8eb6-a3b5a521786f",
     "showTitle": false,
     "title": ""
    }
   },
   "source": [
    "## 4.2.2 Random Forest Regressor"
   ]
  },
  {
   "cell_type": "code",
   "execution_count": 0,
   "metadata": {
    "application/vnd.databricks.v1+cell": {
     "cellMetadata": {
      "byteLimit": 2048000,
      "rowLimit": 10000
     },
     "inputWidgets": {},
     "nuid": "dfb0a7e0-5fa8-4f7c-9e40-5f735b228cd3",
     "showTitle": false,
     "title": ""
    }
   },
   "outputs": [
    {
     "output_type": "display_data",
     "data": {
      "application/vnd.jupyter.widget-view+json": {
       "model_id": "a1082fa8c6a147238a9bdd4f1df008d0",
       "version_major": 2,
       "version_minor": 0
      },
      "text/plain": [
       "Uploading artifacts:   0%|          | 0/5 [00:00<?, ?it/s]"
      ]
     },
     "metadata": {},
     "output_type": "display_data"
    },
    {
     "output_type": "stream",
     "name": "stdout",
     "output_type": "stream",
     "text": [
      "Random Forest Mean Squared Error: 5.064867597481335\nRandom Forest R^2 Score: 0.9987537522335231\n"
     ]
    }
   ],
   "source": [
    "from sklearn.ensemble import RandomForestRegressor\n",
    "from sklearn.metrics import mean_squared_error, r2_score\n",
    "\n",
    "# Initialize the Random Forest Regressor\n",
    "rf_model = RandomForestRegressor(n_estimators=100, random_state=42)\n",
    "\n",
    "# Train the model\n",
    "rf_model.fit(X_train, y_train)\n",
    "\n",
    "# Make predictions\n",
    "y_pred_rf = rf_model.predict(X_test)\n",
    "\n",
    "# Evaluate the model\n",
    "mse_rf = mean_squared_error(y_test, y_pred_rf)\n",
    "r2_rf = r2_score(y_test, y_pred_rf)\n",
    "\n",
    "print(f\"Random Forest Mean Squared Error: {mse_rf}\")\n",
    "print(f\"Random Forest R^2 Score: {r2_rf}\")"
   ]
  },
  {
   "cell_type": "markdown",
   "metadata": {
    "application/vnd.databricks.v1+cell": {
     "cellMetadata": {
      "byteLimit": 2048000,
      "rowLimit": 10000
     },
     "inputWidgets": {},
     "nuid": "b7e462d6-1272-494d-9f54-320a66dad732",
     "showTitle": false,
     "title": ""
    }
   },
   "source": [
    "## 4.2.3 Support Vector Regressor (SVR)"
   ]
  },
  {
   "cell_type": "code",
   "execution_count": 0,
   "metadata": {
    "application/vnd.databricks.v1+cell": {
     "cellMetadata": {
      "byteLimit": 2048000,
      "rowLimit": 10000
     },
     "inputWidgets": {},
     "nuid": "63b90683-2897-4a31-ae8c-1cd581f1ad79",
     "showTitle": false,
     "title": ""
    }
   },
   "outputs": [
    {
     "output_type": "display_data",
     "data": {
      "application/vnd.jupyter.widget-view+json": {
       "model_id": "dbb2335b431440f680036827d1e7b48f",
       "version_major": 2,
       "version_minor": 0
      },
      "text/plain": [
       "Uploading artifacts:   0%|          | 0/5 [00:00<?, ?it/s]"
      ]
     },
     "metadata": {},
     "output_type": "display_data"
    },
    {
     "output_type": "stream",
     "name": "stdout",
     "output_type": "stream",
     "text": [
      "SVR Mean Squared Error: 977.362741002709\nSVR R^2 Score: 0.7595127395594654\n"
     ]
    }
   ],
   "source": [
    "from sklearn.svm import SVR\n",
    "\n",
    "# Initialize the SVR model\n",
    "svr_model = SVR(kernel='rbf')\n",
    "\n",
    "# Train the model\n",
    "svr_model.fit(X_train, y_train)\n",
    "\n",
    "# Make predictions\n",
    "y_pred_svr = svr_model.predict(X_test)\n",
    "\n",
    "# Evaluate the model\n",
    "mse_svr = mean_squared_error(y_test, y_pred_svr)\n",
    "r2_svr = r2_score(y_test, y_pred_svr)\n",
    "\n",
    "print(f\"SVR Mean Squared Error: {mse_svr}\")\n",
    "print(f\"SVR R^2 Score: {r2_svr}\")\n"
   ]
  },
  {
   "cell_type": "markdown",
   "metadata": {
    "application/vnd.databricks.v1+cell": {
     "cellMetadata": {
      "byteLimit": 2048000,
      "rowLimit": 10000
     },
     "inputWidgets": {},
     "nuid": "5374c66f-dce2-4930-8c0c-313a261ddebb",
     "showTitle": false,
     "title": ""
    }
   },
   "source": [
    "## 4.2.4 Model Comparison"
   ]
  },
  {
   "cell_type": "code",
   "execution_count": 0,
   "metadata": {
    "application/vnd.databricks.v1+cell": {
     "cellMetadata": {
      "byteLimit": 2048000,
      "rowLimit": 10000
     },
     "inputWidgets": {},
     "nuid": "7bcdb937-6873-4b77-a66c-6317a206383b",
     "showTitle": false,
     "title": ""
    }
   },
   "outputs": [
    {
     "output_type": "stream",
     "name": "stdout",
     "output_type": "stream",
     "text": [
      "\nModel Performance Comparison:\nLinear Regression - MSE: 262.16881015549114, R^2: 0.9354914441872775\nRandom Forest - MSE: 5.064867597481335, R^2: 0.9987537522335231\nSVR - MSE: 977.362741002709, R^2: 0.7595127395594654\n"
     ]
    }
   ],
   "source": [
    "print(\"\\nModel Performance Comparison:\")\n",
    "print(f\"Linear Regression - MSE: {mse_lr}, R^2: {r2_lr}\")\n",
    "print(f\"Random Forest - MSE: {mse_rf}, R^2: {r2_rf}\")\n",
    "print(f\"SVR - MSE: {mse_svr}, R^2: {r2_svr}\")\n"
   ]
  },
  {
   "cell_type": "markdown",
   "metadata": {
    "application/vnd.databricks.v1+cell": {
     "cellMetadata": {
      "byteLimit": 2048000,
      "rowLimit": 10000
     },
     "inputWidgets": {},
     "nuid": "b494cec2-8caa-4454-9e2d-462993b1a257",
     "showTitle": false,
     "title": ""
    }
   },
   "source": [
    "# Step 5: Model Performance Summary\n",
    "I have trained three models:\n",
    "#### 1.Linear Regression\n",
    "#### 2.Random Forest\n",
    "#### 3.Support Vector Regression (SVR)\n",
    " And evaluated their performance using Mean Squared Error (MSE) and R² score.\n",
    "\n",
    "## Results\n",
    "## Linear Regression:\n",
    "\n",
    "Linear Regression Mean Squared Error: 262.16881015549114\n",
    "Linear Regression R^2 Score: 0.9354914441872775\n",
    "## Random Forest:\n",
    "\n",
    "Random Forest Mean Squared Error: 5.064867597481335\n",
    "Random Forest R^2 Score: 0.9987537522335231\n",
    "## Support Vector Regression (SVR):\n",
    "\n",
    "SVR Mean Squared Error: 977.362741002709\n",
    "SVR R^2 Score: 0.7595127395594654\n",
    "## Interpretation\n",
    "Random Forest performed the best with the lowest MSE and highest R² score, indicating that it captures the underlying patterns in the data more accurately than the other models.\n",
    "Linear Regression also performed well, but not as good as Random Forest.\n",
    "SVR had the highest MSE and the lowest R² score, indicating it may not be the best model for this particular dataset."
   ]
  },
  {
   "cell_type": "markdown",
   "metadata": {
    "application/vnd.databricks.v1+cell": {
     "cellMetadata": {
      "byteLimit": 2048000,
      "rowLimit": 10000
     },
     "inputWidgets": {},
     "nuid": "30782ff8-df4f-4f01-8e56-b950791277fa",
     "showTitle": false,
     "title": ""
    }
   },
   "source": [
    "## 5.1 Feature Importance Analysis:\n",
    " Since Random Forest performed the best, I analyzed feature importance to understand which features are the most influential in the model's predictions."
   ]
  },
  {
   "cell_type": "code",
   "execution_count": 0,
   "metadata": {
    "application/vnd.databricks.v1+cell": {
     "cellMetadata": {
      "byteLimit": 2048000,
      "rowLimit": 10000
     },
     "inputWidgets": {},
     "nuid": "5309f662-39a7-4694-a22e-d2402b3537ae",
     "showTitle": false,
     "title": ""
    }
   },
   "outputs": [
    {
     "output_type": "display_data",
     "data": {
      "image/png": "[encoded data removed]",
      "text/plain": [
       "<Figure size 1000x600 with 1 Axes>"
      ]
     },
     "metadata": {},
     "output_type": "display_data"
    }
   ],
   "source": [
    "import matplotlib.pyplot as plt\n",
    "import numpy as np\n",
    "\n",
    "# Get feature importances from the random forest model\n",
    "feature_importances = rf_model.feature_importances_\n",
    "\n",
    "# Get the feature names\n",
    "feature_names = X_train.columns\n",
    "\n",
    "# Create a bar plot of the feature importances\n",
    "plt.figure(figsize=(10, 6))\n",
    "plt.barh(feature_names, feature_importances)\n",
    "plt.xlabel('Feature Importance')\n",
    "plt.ylabel('Feature')\n",
    "plt.title('Feature Importances from Random Forest Model')\n",
    "plt.show()\n"
   ]
  },
  {
   "cell_type": "markdown",
   "metadata": {
    "application/vnd.databricks.v1+cell": {
     "cellMetadata": {
      "byteLimit": 2048000,
      "rowLimit": 10000
     },
     "inputWidgets": {},
     "nuid": "583f938e-3195-4814-8932-047585ee3a1f",
     "showTitle": false,
     "title": ""
    }
   },
   "source": [
    "## 5.2 Cross-Validation: \n",
    "Implement cross-validation to ensure that the model's performance is consistent across different subsets of the data."
   ]
  },
  {
   "cell_type": "code",
   "execution_count": 0,
   "metadata": {
    "application/vnd.databricks.v1+cell": {
     "cellMetadata": {
      "byteLimit": 2048000,
      "rowLimit": 10000
     },
     "inputWidgets": {},
     "nuid": "60c3a48e-9525-4e24-b711-c5a6bbb37676",
     "showTitle": false,
     "title": ""
    }
   },
   "outputs": [
    {
     "output_type": "stream",
     "name": "stdout",
     "output_type": "stream",
     "text": [
      "Random Forest Cross-Validation Mean MSE: 1249.0699581010008\nRandom Forest Cross-Validation Std MSE: 1158.2127585329708\n"
     ]
    }
   ],
   "source": [
    "from sklearn.model_selection import cross_val_score\n",
    "\n",
    "# Perform cross-validation for the Random Forest model\n",
    "cv_scores = cross_val_score(rf_model, X, y, cv=5, scoring='neg_mean_squared_error')\n",
    "\n",
    "# Calculate the mean and standard deviation of the cross-validated scores\n",
    "mean_cv_score = np.mean(cv_scores)\n",
    "std_cv_score = np.std(cv_scores)\n",
    "\n",
    "print(f'Random Forest Cross-Validation Mean MSE: {-mean_cv_score}')\n",
    "print(f'Random Forest Cross-Validation Std MSE: {std_cv_score}')\n"
   ]
  },
  {
   "cell_type": "markdown",
   "metadata": {
    "application/vnd.databricks.v1+cell": {
     "cellMetadata": {
      "byteLimit": 2048000,
      "rowLimit": 10000
     },
     "inputWidgets": {},
     "nuid": "1c139aa9-1192-40e1-9e37-bc5964dc2ead",
     "showTitle": false,
     "title": ""
    }
   },
   "source": [
    "Given the cross-validation results showing a high mean and standard deviation for the Mean Squared Error (MSE), it suggests there may be some variability in my model's performance across different folds of the data. This could indicate overfitting, where the model performs well on training data but not consistently well on validation data."
   ]
  },
  {
   "cell_type": "markdown",
   "metadata": {
    "application/vnd.databricks.v1+cell": {
     "cellMetadata": {
      "byteLimit": 2048000,
      "rowLimit": 10000
     },
     "inputWidgets": {},
     "nuid": "c2bf9a03-d635-4751-96d8-627107445522",
     "showTitle": false,
     "title": ""
    }
   },
   "source": [
    "# Step 6: Refinement of Model"
   ]
  },
  {
   "cell_type": "markdown",
   "metadata": {
    "application/vnd.databricks.v1+cell": {
     "cellMetadata": {
      "byteLimit": 2048000,
      "rowLimit": 10000
     },
     "inputWidgets": {},
     "nuid": "6172a831-cd71-476f-80bf-b84a4e515f59",
     "showTitle": false,
     "title": ""
    }
   },
   "source": [
    "### 6.1: Hyperparameter Tuning for Random Forest:\n",
    "\n",
    "Improve the performance and robustness of the Random Forest model by tuning its hyperparameters."
   ]
  },
  {
   "cell_type": "code",
   "execution_count": 0,
   "metadata": {
    "application/vnd.databricks.v1+cell": {
     "cellMetadata": {
      "byteLimit": 2048000,
      "rowLimit": 10000
     },
     "inputWidgets": {},
     "nuid": "fe7edd6f-a381-4c63-8ef1-a39824c7aa83",
     "showTitle": false,
     "title": ""
    }
   },
   "outputs": [
    {
     "output_type": "display_data",
     "data": {
      "application/vnd.jupyter.widget-view+json": {
       "model_id": "61fe8e307d2a40b599b627ef0ce9ae97",
       "version_major": 2,
       "version_minor": 0
      },
      "text/plain": [
       "Uploading artifacts:   0%|          | 0/5 [00:00<?, ?it/s]"
      ]
     },
     "metadata": {},
     "output_type": "display_data"
    },
    {
     "output_type": "display_data",
     "data": {
      "application/vnd.jupyter.widget-view+json": {
       "model_id": "6288ce2178db45bd97e0e4809f9716cd",
       "version_major": 2,
       "version_minor": 0
      },
      "text/plain": [
       "Uploading artifacts:   0%|          | 0/5 [00:00<?, ?it/s]"
      ]
     },
     "metadata": {},
     "output_type": "display_data"
    },
    {
     "output_type": "stream",
     "name": "stdout",
     "output_type": "stream",
     "text": [
      "Best Parameters: {'max_depth': None, 'min_samples_leaf': 1, 'min_samples_split': 2, 'n_estimators': 200}\nTuned Random Forest - MSE: 4.954090030082464, R^2: 0.9987810098652953\n"
     ]
    }
   ],
   "source": [
    "from sklearn.model_selection import GridSearchCV\n",
    "\n",
    "# Define the parameter grid\n",
    "param_grid = {\n",
    "    'n_estimators': [50, 100, 200],\n",
    "    'max_depth': [None, 10, 20, 30],\n",
    "    'min_samples_split': [2, 5, 10],\n",
    "    'min_samples_leaf': [1, 2, 4]\n",
    "}\n",
    "\n",
    "# Initialize the Random Forest model\n",
    "rf_model = RandomForestRegressor()\n",
    "\n",
    "# Initialize GridSearchCV\n",
    "grid_search = GridSearchCV(estimator=rf_model, param_grid=param_grid,\n",
    "                           cv=5, scoring='neg_mean_squared_error', n_jobs=-1)\n",
    "\n",
    "# Fit the grid search to the data\n",
    "grid_search.fit(X_train, y_train)\n",
    "\n",
    "# Get the best parameters and model\n",
    "best_params = grid_search.best_params_\n",
    "best_rf_model = grid_search.best_estimator_\n",
    "\n",
    "print(f\"Best Parameters: {best_params}\")\n",
    "\n",
    "# Evaluate the tuned model on the test set\n",
    "y_pred_best_rf = best_rf_model.predict(X_test)\n",
    "mse_best_rf = mean_squared_error(y_test, y_pred_best_rf)\n",
    "r2_best_rf = r2_score(y_test, y_pred_best_rf)\n",
    "\n",
    "print(f\"Tuned Random Forest - MSE: {mse_best_rf}, R^2: {r2_best_rf}\")\n"
   ]
  },
  {
   "cell_type": "markdown",
   "metadata": {
    "application/vnd.databricks.v1+cell": {
     "cellMetadata": {
      "byteLimit": 2048000,
      "rowLimit": 10000
     },
     "inputWidgets": {},
     "nuid": "e619cb5b-8dd5-4e63-aadc-0c21f2ccb79a",
     "showTitle": false,
     "title": ""
    }
   },
   "source": [
    "### The hyperparameter tuning of the Random Forest model has resulted in an impressive performance with an MSE of 4.917 and an R² of 0.9988. This indicates a highly accurate model."
   ]
  },
  {
   "cell_type": "markdown",
   "metadata": {
    "application/vnd.databricks.v1+cell": {
     "cellMetadata": {
      "byteLimit": 2048000,
      "rowLimit": 10000
     },
     "inputWidgets": {},
     "nuid": "00c85b80-a2fd-4443-8cab-f99045729042",
     "showTitle": false,
     "title": ""
    }
   },
   "source": [
    "### Next Steps:\n",
    "### Model Validation:\n",
    "Validate the model using cross-validation to ensure its robustness.\n",
    "### Residual Analysis:\n",
    "Perform residual analysis to check for patterns in the prediction errors.\n",
    "### Save and Deploy the Model:\n",
    "Save the trained model for future use.\n"
   ]
  },
  {
   "cell_type": "markdown",
   "metadata": {
    "application/vnd.databricks.v1+cell": {
     "cellMetadata": {
      "byteLimit": 2048000,
      "rowLimit": 10000
     },
     "inputWidgets": {},
     "nuid": "894e40db-5769-4de6-a87a-9e53da1155f5",
     "showTitle": false,
     "title": ""
    }
   },
   "source": [
    "### Step 1: Model Validation with Cross-Validation\n",
    "Even though we've performed hyperparameter tuning, it's essential to ensure the model's stability and consistency with cross-validation."
   ]
  },
  {
   "cell_type": "code",
   "execution_count": 0,
   "metadata": {
    "application/vnd.databricks.v1+cell": {
     "cellMetadata": {
      "byteLimit": 2048000,
      "rowLimit": 10000
     },
     "inputWidgets": {},
     "nuid": "666c4a19-ad0e-498a-83f1-88db0e204505",
     "showTitle": false,
     "title": ""
    }
   },
   "outputs": [
    {
     "output_type": "stream",
     "name": "stdout",
     "output_type": "stream",
     "text": [
      "Random Forest Cross-Validation Mean MSE: 8.588553513820877\nRandom Forest Cross-Validation Std MSE: 1.6117077861075733\n"
     ]
    }
   ],
   "source": [
    "from sklearn.model_selection import cross_val_score\n",
    "\n",
    "# Perform cross-validation on the tuned model\n",
    "cv_scores = cross_val_score(best_rf_model, X_train, y_train, cv=5, scoring='neg_mean_squared_error')\n",
    "cv_mse_scores = -cv_scores\n",
    "mean_cv_mse = np.mean(cv_mse_scores)\n",
    "std_cv_mse = np.std(cv_mse_scores)\n",
    "\n",
    "print(f\"Random Forest Cross-Validation Mean MSE: {mean_cv_mse}\")\n",
    "print(f\"Random Forest Cross-Validation Std MSE: {std_cv_mse}\")\n"
   ]
  },
  {
   "cell_type": "markdown",
   "metadata": {
    "application/vnd.databricks.v1+cell": {
     "cellMetadata": {
      "byteLimit": 2048000,
      "rowLimit": 10000
     },
     "inputWidgets": {},
     "nuid": "0995424f-0748-45b9-838a-99e8656dfb80",
     "showTitle": false,
     "title": ""
    }
   },
   "source": [
    "### Step 2: Residual Analysis\n",
    "Residual analysis helps in identifying if there are any patterns left in the prediction errors, which the model could potentially learn from."
   ]
  },
  {
   "cell_type": "code",
   "execution_count": 0,
   "metadata": {
    "application/vnd.databricks.v1+cell": {
     "cellMetadata": {
      "byteLimit": 2048000,
      "rowLimit": 10000
     },
     "inputWidgets": {},
     "nuid": "61727328-4be7-4a2e-9c8f-9012b13e8d71",
     "showTitle": false,
     "title": ""
    }
   },
   "outputs": [
    {
     "output_type": "display_data",
     "data": {
      "image/png": "[encoded data removed]",
      "text/plain": [
       "<Figure size 1000x600 with 1 Axes>"
      ]
     },
     "metadata": {},
     "output_type": "display_data"
    },
    {
     "output_type": "display_data",
     "data": {
      "image/png": "[encoded data removed]",
      "text/plain": [
       "<Figure size 1000x600 with 1 Axes>"
      ]
     },
     "metadata": {},
     "output_type": "display_data"
    }
   ],
   "source": [
    "import matplotlib.pyplot as plt\n",
    "\n",
    "# Calculate residuals\n",
    "residuals = y_test - y_pred_best_rf\n",
    "\n",
    "# Plot residuals\n",
    "plt.figure(figsize=(10, 6))\n",
    "plt.scatter(y_pred_best_rf, residuals)\n",
    "plt.axhline(0, color='r', linestyle='--')\n",
    "plt.xlabel('Predicted Values')\n",
    "plt.ylabel('Residuals')\n",
    "plt.title('Residuals vs Predicted Values')\n",
    "plt.show()\n",
    "\n",
    "# Plot histogram of residuals\n",
    "plt.figure(figsize=(10, 6))\n",
    "plt.hist(residuals, bins=30)\n",
    "plt.xlabel('Residuals')\n",
    "plt.ylabel('Frequency')\n",
    "plt.title('Histogram of Residuals')\n",
    "plt.show()\n"
   ]
  },
  {
   "cell_type": "markdown",
   "metadata": {
    "application/vnd.databricks.v1+cell": {
     "cellMetadata": {
      "byteLimit": 2048000,
      "rowLimit": 10000
     },
     "inputWidgets": {},
     "nuid": "85db5718-553e-4b02-b73b-690c443a1482",
     "showTitle": false,
     "title": ""
    }
   },
   "source": [
    "### The residuals vs. predicted values plot\n",
    " shows that residuals are mostly centered around zero, indicating that the model has a good fit. However, there are a few outliers which can be further analyzed.\n",
    "\n",
    "###  Observations from Histogram of Residuals\n",
    "#####Symmetric Distribution:\n",
    "The residuals are roughly symmetric and centered around zero, indicating that the model is unbiased and has a good fit for the data.\n",
    "\n",
    "#####Residuals Close to Zero:\n",
    "\n",
    "Most residuals are close to zero, meaning the majority of the model's predictions are accurate.\n",
    "\n",
    "#####Tails in Distribution:\n",
    "\n",
    "There are some tails extending towards both positive and negative residuals, but their frequency is low. These could be due to noise or outliers in the data."
   ]
  },
  {
   "cell_type": "markdown",
   "metadata": {
    "application/vnd.databricks.v1+cell": {
     "cellMetadata": {
      "byteLimit": 2048000,
      "rowLimit": 10000
     },
     "inputWidgets": {},
     "nuid": "3f146132-c15d-4069-8924-3ccae54fd10e",
     "showTitle": false,
     "title": ""
    }
   },
   "source": [
    "%md\n",
    "## Step 3: Save the Model"
   ]
  },
  {
   "cell_type": "code",
   "execution_count": 0,
   "metadata": {
    "application/vnd.databricks.v1+cell": {
     "cellMetadata": {
      "byteLimit": 2048000,
      "rowLimit": 10000
     },
     "inputWidgets": {},
     "nuid": "41c2120b-f1cb-42e1-bd1a-9da4531ffed9",
     "showTitle": false,
     "title": ""
    }
   },
   "outputs": [
    {
     "output_type": "stream",
     "name": "stdout",
     "output_type": "stream",
     "text": [
      "Verification MSE: 4.954090030082464\n"
     ]
    }
   ],
   "source": [
    "import joblib\n",
    "\n",
    "# Save the best model\n",
    "joblib.dump(best_rf_model, 'best_rf_model.pkl')\n",
    "\n",
    "# Load the model (for verification)\n",
    "loaded_model = joblib.load('best_rf_model.pkl')\n",
    "\n",
    "# Verify loaded model\n",
    "y_pred_loaded = loaded_model.predict(X_test)\n",
    "print(f\"Verification MSE: {mean_squared_error(y_test, y_pred_loaded)}\")\n"
   ]
  },
  {
   "cell_type": "markdown",
   "metadata": {
    "application/vnd.databricks.v1+cell": {
     "cellMetadata": {
      "byteLimit": 2048000,
      "rowLimit": 10000
     },
     "inputWidgets": {},
     "nuid": "0618d638-d638-470a-a5b4-dc082940eae7",
     "showTitle": false,
     "title": ""
    }
   },
   "source": [
    "# Conclusion\n",
    "I have successfully built and validated a Random Forest model for predicting the closing prices of BANKBARODA stock. The model demonstrates excellent performance with a low MSE and high R². The cross-validation results further confirm its robustness. By saving and deploying the model, you I use it for real-time predictions."
   ]
  },
  {
   "cell_type": "markdown",
   "metadata": {
    "application/vnd.databricks.v1+cell": {
     "cellMetadata": {
      "byteLimit": 2048000,
      "rowLimit": 10000
     },
     "inputWidgets": {},
     "nuid": "a6d8c23e-0278-4775-8493-e1d9d71c1e3f",
     "showTitle": false,
     "title": ""
    }
   },
   "source": [
    "Exporting the \"best_rf_model.pkl\" File since it is larger than 10 MB\n"
   ]
  },
  {
   "cell_type": "code",
   "execution_count": 0,
   "metadata": {
    "application/vnd.databricks.v1+cell": {
     "cellMetadata": {
      "byteLimit": 2048000,
      "rowLimit": 10000
     },
     "inputWidgets": {},
     "nuid": "4ecf9a7c-fcb0-407f-9085-4963e968a845",
     "showTitle": false,
     "title": ""
    }
   },
   "outputs": [
    {
     "output_type": "stream",
     "name": "stdout",
     "output_type": "stream",
     "text": [
      "Successfully split the file into 3 chunks\n"
     ]
    }
   ],
   "source": [
    "import os\n",
    "\n",
    "input_file_path = '/Workspace/Users/mritunjaypandey.ee_gmail.com#ext#@mritunjaypandeyeegmail.onmicrosoft.com/best_rf_model.pkl'  # replace with your file path\n",
    "chunk_size = 10 * 1024 * 1024  # 10 MB\n",
    "output_dir = '/dbfs//mnt/riskpredict-data/'  # replace with your desired output directory\n",
    "\n",
    "if not os.path.exists(output_dir):\n",
    "    os.makedirs(output_dir)\n",
    "\n",
    "with open(input_file_path, 'rb') as f:\n",
    "    chunk_num = 0\n",
    "    while True:\n",
    "        chunk = f.read(chunk_size)\n",
    "        if not chunk:\n",
    "            break\n",
    "        with open(os.path.join(output_dir, f'chunk_{chunk_num}.pkl'), 'wb') as chunk_file:\n",
    "            chunk_file.write(chunk)\n",
    "        chunk_num += 1\n",
    "\n",
    "print(f'Successfully split the file into {chunk_num} chunks')\n"
   ]
  },
  {
   "cell_type": "markdown",
   "metadata": {
    "application/vnd.databricks.v1+cell": {
     "cellMetadata": {
      "byteLimit": 2048000,
      "rowLimit": 10000
     },
     "inputWidgets": {},
     "nuid": "1d4c7e6f-4a71-4502-a54a-59c6ad56e282",
     "showTitle": false,
     "title": ""
    }
   },
   "source": [
    "This script splits the best_rf_model.pkl file into 10 MB chunks and saves them in the specified output directory.\n",
    "\n"
   ]
  },
  {
   "cell_type": "markdown",
   "metadata": {
    "application/vnd.databricks.v1+cell": {
     "cellMetadata": {
      "byteLimit": 2048000,
      "rowLimit": 10000
     },
     "inputWidgets": {},
     "nuid": "7aa2ab4e-073d-4913-b6f6-470990bb5233",
     "showTitle": false,
     "title": ""
    }
   },
   "source": []
  },
  {
   "cell_type": "markdown",
   "metadata": {
    "application/vnd.databricks.v1+cell": {
     "cellMetadata": {
      "byteLimit": 2048000,
      "rowLimit": 10000
     },
     "inputWidgets": {},
     "nuid": "7909ce0f-190f-49a7-8b24-dae4aec7877d",
     "showTitle": false,
     "title": ""
    }
   },
   "source": []
  },
  {
   "cell_type": "markdown",
   "metadata": {
    "application/vnd.databricks.v1+cell": {
     "cellMetadata": {
      "byteLimit": 2048000,
      "rowLimit": 10000
     },
     "inputWidgets": {},
     "nuid": "2c4e7ea2-0895-466c-a3c7-f92e39771c31",
     "showTitle": false,
     "title": ""
    }
   },
   "source": []
  }
 ],
 "metadata": {
  "application/vnd.databricks.v1+notebook": {
   "dashboards": [],
   "environmentMetadata": null,
   "language": "python",
   "notebookMetadata": {
    "pythonIndentUnit": 4
   },
   "notebookName": "Model_Development_and_Training",
   "widgets": {}
  }
 },
 "nbformat": 4,
 "nbformat_minor": 0
}
