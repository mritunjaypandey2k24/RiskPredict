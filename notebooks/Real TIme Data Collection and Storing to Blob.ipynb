{
 "cells": [
  {
   "cell_type": "markdown",
   "metadata": {
    "application/vnd.databricks.v1+cell": {
     "cellMetadata": {
      "byteLimit": 2048000,
      "rowLimit": 10000
     },
     "inputWidgets": {},
     "nuid": "b0d1ecd3-72a1-4be9-b061-d328db9ddabb",
     "showTitle": false,
     "title": ""
    }
   },
   "source": [
    "# Data Collection"
   ]
  },
  {
   "cell_type": "markdown",
   "metadata": {
    "application/vnd.databricks.v1+cell": {
     "cellMetadata": {
      "byteLimit": 2048000,
      "rowLimit": 10000
     },
     "inputWidgets": {},
     "nuid": "347a5e39-76c3-4867-a39c-01fa2e6bd82a",
     "showTitle": false,
     "title": ""
    }
   },
   "source": [
    "## Real-Time Data Collection:\n",
    "Set up a pipeline to continuously collect real-time stock prices and other relevant financial data.\n",
    "Use an API like yfinance, Alpha Vantage, or a direct market data provider to fetch real-time data.\n",
    "Store this data in your Azure Blob Storage or a database for easy access and further analysis."
   ]
  },
  {
   "cell_type": "code",
   "execution_count": 0,
   "metadata": {
    "application/vnd.databricks.v1+cell": {
     "cellMetadata": {
      "byteLimit": 2048000,
      "rowLimit": 10000
     },
     "inputWidgets": {},
     "nuid": "e11d8d31-8d16-4eca-ba99-ec7157d5d292",
     "showTitle": false,
     "title": ""
    }
   },
   "outputs": [
    {
     "output_type": "stream",
     "name": "stdout",
     "output_type": "stream",
     "text": [
      "\u001B[43mNote: you may need to restart the kernel using dbutils.library.restartPython() to use updated packages.\u001B[0m\nCollecting yfinance\n  Using cached yfinance-0.2.40-py2.py3-none-any.whl (73 kB)\nRequirement already satisfied: azure-storage-blob in /databricks/python3/lib/python3.10/site-packages (12.19.0)\nRequirement already satisfied: sqlalchemy in /databricks/python3/lib/python3.10/site-packages (1.4.39)\nRequirement already satisfied: pyodbc in /databricks/python3/lib/python3.10/site-packages (4.0.32)\nCollecting peewee>=3.16.2\n  Using cached peewee-3.17.5-cp310-cp310-linux_x86_64.whl\nRequirement already satisfied: numpy>=1.16.5 in /databricks/python3/lib/python3.10/site-packages (from yfinance) (1.23.5)\nCollecting requests>=2.31\n  Using cached requests-2.32.3-py3-none-any.whl (64 kB)\nRequirement already satisfied: platformdirs>=2.0.0 in /databricks/python3/lib/python3.10/site-packages (from yfinance) (2.5.2)\nRequirement already satisfied: pytz>=2022.5 in /databricks/python3/lib/python3.10/site-packages (from yfinance) (2022.7)\nCollecting html5lib>=1.1\n  Using cached html5lib-1.1-py2.py3-none-any.whl (112 kB)\nCollecting multitasking>=0.0.7\n  Using cached multitasking-0.0.11-py3-none-any.whl (8.5 kB)\nRequirement already satisfied: lxml>=4.9.1 in /databricks/python3/lib/python3.10/site-packages (from yfinance) (4.9.1)\nRequirement already satisfied: beautifulsoup4>=4.11.1 in /databricks/python3/lib/python3.10/site-packages (from yfinance) (4.11.1)\nRequirement already satisfied: pandas>=1.3.0 in /databricks/python3/lib/python3.10/site-packages (from yfinance) (1.5.3)\nCollecting frozendict>=2.3.4\n  Using cached frozendict-2.4.4-cp310-cp310-manylinux_2_17_x86_64.manylinux2014_x86_64.whl (117 kB)\nRequirement already satisfied: cryptography>=2.1.4 in /databricks/python3/lib/python3.10/site-packages (from azure-storage-blob) (39.0.1)\nRequirement already satisfied: typing-extensions>=4.3.0 in /databricks/python3/lib/python3.10/site-packages (from azure-storage-blob) (4.4.0)\nRequirement already satisfied: azure-core<2.0.0,>=1.28.0 in /databricks/python3/lib/python3.10/site-packages (from azure-storage-blob) (1.29.1)\nRequirement already satisfied: isodate>=0.6.1 in /databricks/python3/lib/python3.10/site-packages (from azure-storage-blob) (0.6.1)\nRequirement already satisfied: greenlet!=0.4.17 in /databricks/python3/lib/python3.10/site-packages (from sqlalchemy) (2.0.1)\nRequirement already satisfied: six>=1.11.0 in /usr/lib/python3/dist-packages (from azure-core<2.0.0,>=1.28.0->azure-storage-blob) (1.16.0)\nRequirement already satisfied: soupsieve>1.2 in /databricks/python3/lib/python3.10/site-packages (from beautifulsoup4>=4.11.1->yfinance) (2.3.2.post1)\nRequirement already satisfied: cffi>=1.12 in /databricks/python3/lib/python3.10/site-packages (from cryptography>=2.1.4->azure-storage-blob) (1.15.1)\nRequirement already satisfied: webencodings in /databricks/python3/lib/python3.10/site-packages (from html5lib>=1.1->yfinance) (0.5.1)\nRequirement already satisfied: python-dateutil>=2.8.1 in /databricks/python3/lib/python3.10/site-packages (from pandas>=1.3.0->yfinance) (2.8.2)\nRequirement already satisfied: charset-normalizer<4,>=2 in /databricks/python3/lib/python3.10/site-packages (from requests>=2.31->yfinance) (2.0.4)\nRequirement already satisfied: idna<4,>=2.5 in /databricks/python3/lib/python3.10/site-packages (from requests>=2.31->yfinance) (3.4)\nRequirement already satisfied: urllib3<3,>=1.21.1 in /databricks/python3/lib/python3.10/site-packages (from requests>=2.31->yfinance) (1.26.14)\nRequirement already satisfied: certifi>=2017.4.17 in /databricks/python3/lib/python3.10/site-packages (from requests>=2.31->yfinance) (2022.12.7)\nRequirement already satisfied: pycparser in /databricks/python3/lib/python3.10/site-packages (from cffi>=1.12->cryptography>=2.1.4->azure-storage-blob) (2.21)\nInstalling collected packages: peewee, multitasking, requests, html5lib, frozendict, yfinance\n  Attempting uninstall: requests\n    Found existing installation: requests 2.28.1\n    Not uninstalling requests at /databricks/python3/lib/python3.10/site-packages, outside environment /local_disk0/.ephemeral_nfs/envs/pythonEnv-5924b83c-9585-478c-946a-cefc775444f1\n    Can't uninstall 'requests'. No files were found to uninstall.\nERROR: pip's dependency resolver does not currently take into account all the packages that are installed. This behaviour is the source of the following dependency conflicts.\ndatabricks-feature-engineering 0.2.1 requires pyspark<4,>=3.1.2, which is not installed.\ndatabricks-sdk 0.1.6 requires requests<2.29.0,>=2.28.1, but you have requests 2.32.3 which is incompatible.\nSuccessfully installed frozendict-2.4.4 html5lib-1.1 multitasking-0.0.11 peewee-3.17.5 requests-2.32.3 yfinance-0.2.40\n\u001B[43mNote: you may need to restart the kernel using dbutils.library.restartPython() to use updated packages.\u001B[0m\n"
     ]
    }
   ],
   "source": [
    "# Install necessary libraries\n",
    "!pip install yfinance azure-storage-blob sqlalchemy pyodbc\n"
   ]
  },
  {
   "cell_type": "markdown",
   "metadata": {
    "application/vnd.databricks.v1+cell": {
     "cellMetadata": {
      "byteLimit": 2048000,
      "rowLimit": 10000
     },
     "inputWidgets": {},
     "nuid": "45600282-45bd-42c0-b9bb-4e69b5bd4197",
     "showTitle": false,
     "title": ""
    }
   },
   "source": [
    "## Fetch Realtime data"
   ]
  },
  {
   "cell_type": "code",
   "execution_count": 0,
   "metadata": {
    "application/vnd.databricks.v1+cell": {
     "cellMetadata": {
      "byteLimit": 2048000,
      "rowLimit": 10000
     },
     "inputWidgets": {},
     "nuid": "a17c5f65-8ce5-457a-a00e-0b4b9f3670db",
     "showTitle": false,
     "title": ""
    }
   },
   "outputs": [
    {
     "output_type": "stream",
     "name": "stdout",
     "output_type": "stream",
     "text": [
      "   BANKBARODA.NS  HDFCBANK.NS  ...        ^BSESN         ^NSEI\n0     273.299988  1700.150024  ...  79357.492188  24108.050781\n\n[1 rows x 7 columns]\n"
     ]
    }
   ],
   "source": [
    "import yfinance as yf\n",
    "import pandas as pd\n",
    "\n",
    "def get_real_time_stock_price(stock_symbol):\n",
    "    stock = yf.Ticker(stock_symbol)\n",
    "    hist = stock.history(period='1d')\n",
    "    if hist.empty:  # Check if the DataFrame is empty\n",
    "        print(f\"No data found for {stock_symbol}\")\n",
    "        return None  # Return None or appropriate value indicating no data\n",
    "    else:\n",
    "        return hist['Close'].iloc[-1]\n",
    "\n",
    "def fetch_data():\n",
    "    # List of stock symbols to fetch\n",
    "    stocks = ['BANKBARODA.NS', 'HDFCBANK.NS', 'SBIN.NS', 'ICICIBANK.NS', 'AXISBANK.NS', '^BSESN', '^NSEI']\n",
    "    data = {}\n",
    "    for stock in stocks:\n",
    "        price = get_real_time_stock_price(stock)\n",
    "        if price is not None:  # Only add to data if price is not None\n",
    "            data[stock] = price\n",
    "    return data\n",
    "\n",
    "# Fetch and display the data\n",
    "data = fetch_data()\n",
    "df = pd.DataFrame(data, index=[0])\n",
    "print(df)  # Use print if display is not available"
   ]
  },
  {
   "cell_type": "markdown",
   "metadata": {
    "application/vnd.databricks.v1+cell": {
     "cellMetadata": {
      "byteLimit": 2048000,
      "rowLimit": 10000
     },
     "inputWidgets": {},
     "nuid": "23d9af7a-73e5-41a7-9555-e260518deac6",
     "showTitle": false,
     "title": ""
    }
   },
   "source": [
    "## upload to Blob Storage"
   ]
  },
  {
   "cell_type": "code",
   "execution_count": 0,
   "metadata": {
    "application/vnd.databricks.v1+cell": {
     "cellMetadata": {
      "byteLimit": 2048000,
      "rowLimit": 10000
     },
     "inputWidgets": {},
     "nuid": "36d030de-c286-43e3-a8ea-93c7ba7638a5",
     "showTitle": false,
     "title": ""
    }
   },
   "outputs": [
    {
     "output_type": "stream",
     "name": "stdout",
     "output_type": "stream",
     "text": [
      "Data uploaded to blob storage as realtime_data_20240701_064619.csv\n"
     ]
    }
   ],
   "source": [
    "from azure.storage.blob import BlobServiceClient\n",
    "from datetime import datetime\n",
    "\n",
    "# Azure Storage connection string\n",
    "connect_str = 'DefaultEndpointsProtocol=https;AccountName=storageriskpredictor;AccountKey=VFB3FzSHo02JqmvdOaq2Ygr2MR5Tdq+3N/O6yTeRvr2HVysRrDK8BsmTW2u4Smp7rOBZWWD/McRO+AStGLAQzQ==;EndpointSuffix=core.windows.net'\n",
    "container_name = 'riskpredict-data'\n",
    "\n",
    "# Initialize the BlobServiceClient\n",
    "blob_service_client = BlobServiceClient.from_connection_string(connect_str)\n",
    "\n",
    "def upload_blob(dataframe, file_name):\n",
    "    # Convert DataFrame to CSV\n",
    "    csv_data = dataframe.to_csv(index=False)\n",
    "\n",
    "    # Create a BlobClient\n",
    "    blob_client = blob_service_client.get_blob_client(container=container_name, blob=file_name)\n",
    "\n",
    "    # Upload the CSV data\n",
    "    blob_client.upload_blob(csv_data, overwrite=True)\n",
    "\n",
    "# Generate a file name based on current timestamp and upload the DataFrame\n",
    "file_name = f\"realtime_data_{datetime.now().strftime('%Y%m%d_%H%M%S')}.csv\"\n",
    "upload_blob(df, file_name)\n",
    "print(f\"Data uploaded to blob storage as {file_name}\")\n"
   ]
  }
 ],
 "metadata": {
  "application/vnd.databricks.v1+notebook": {
   "dashboards": [],
   "environmentMetadata": null,
   "language": "python",
   "notebookMetadata": {
    "pythonIndentUnit": 4
   },
   "notebookName": "Real TIme Data Collection and Storing to Blob",
   "widgets": {}
  }
 },
 "nbformat": 4,
 "nbformat_minor": 0
}
